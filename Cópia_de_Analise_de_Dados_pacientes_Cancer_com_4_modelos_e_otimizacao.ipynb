{
  "cells": [
    {
      "cell_type": "markdown",
      "metadata": {
        "id": "view-in-github",
        "colab_type": "text"
      },
      "source": [
        "<a href=\"https://colab.research.google.com/github/rguimaraesbr/HealthCareAI/blob/main/C%C3%B3pia_de_Analise_de_Dados_pacientes_Cancer_com_4_modelos_e_otimizacao.ipynb\" target=\"_parent\"><img src=\"https://colab.research.google.com/assets/colab-badge.svg\" alt=\"Open In Colab\"/></a>"
      ]
    },
    {
      "cell_type": "code",
      "execution_count": 2,
      "metadata": {
        "colab": {
          "base_uri": "https://localhost:8080/"
        },
        "id": "f0f87181",
        "outputId": "84835629-df3e-4f62-be32-26f2b5d84e3b"
      },
      "outputs": [
        {
          "output_type": "stream",
          "name": "stdout",
          "text": [
            "Looking in indexes: https://pypi.org/simple, https://us-python.pkg.dev/colab-wheels/public/simple/\n",
            "Collecting keras-tuner\n",
            "  Downloading keras_tuner-1.1.3-py3-none-any.whl (135 kB)\n",
            "\u001b[?25l\r\u001b[K     |██▍                             | 10 kB 19.7 MB/s eta 0:00:01\r\u001b[K     |████▉                           | 20 kB 6.2 MB/s eta 0:00:01\r\u001b[K     |███████▎                        | 30 kB 8.7 MB/s eta 0:00:01\r\u001b[K     |█████████▋                      | 40 kB 4.2 MB/s eta 0:00:01\r\u001b[K     |████████████                    | 51 kB 4.3 MB/s eta 0:00:01\r\u001b[K     |██████████████▌                 | 61 kB 5.1 MB/s eta 0:00:01\r\u001b[K     |█████████████████               | 71 kB 5.3 MB/s eta 0:00:01\r\u001b[K     |███████████████████▎            | 81 kB 5.3 MB/s eta 0:00:01\r\u001b[K     |█████████████████████▊          | 92 kB 5.9 MB/s eta 0:00:01\r\u001b[K     |████████████████████████▏       | 102 kB 4.9 MB/s eta 0:00:01\r\u001b[K     |██████████████████████████▋     | 112 kB 4.9 MB/s eta 0:00:01\r\u001b[K     |█████████████████████████████   | 122 kB 4.9 MB/s eta 0:00:01\r\u001b[K     |███████████████████████████████▍| 133 kB 4.9 MB/s eta 0:00:01\r\u001b[K     |████████████████████████████████| 135 kB 4.9 MB/s \n",
            "\u001b[?25hRequirement already satisfied: requests in /usr/local/lib/python3.8/dist-packages (from keras-tuner) (2.23.0)\n",
            "Requirement already satisfied: ipython in /usr/local/lib/python3.8/dist-packages (from keras-tuner) (7.9.0)\n",
            "Requirement already satisfied: tensorboard in /usr/local/lib/python3.8/dist-packages (from keras-tuner) (2.9.1)\n",
            "Collecting kt-legacy\n",
            "  Downloading kt_legacy-1.0.4-py3-none-any.whl (9.6 kB)\n",
            "Requirement already satisfied: packaging in /usr/local/lib/python3.8/dist-packages (from keras-tuner) (21.3)\n",
            "Requirement already satisfied: numpy in /usr/local/lib/python3.8/dist-packages (from keras-tuner) (1.21.6)\n",
            "Collecting jedi>=0.10\n",
            "  Downloading jedi-0.18.2-py2.py3-none-any.whl (1.6 MB)\n",
            "\u001b[K     |████████████████████████████████| 1.6 MB 38.0 MB/s \n",
            "\u001b[?25hRequirement already satisfied: prompt-toolkit<2.1.0,>=2.0.0 in /usr/local/lib/python3.8/dist-packages (from ipython->keras-tuner) (2.0.10)\n",
            "Requirement already satisfied: decorator in /usr/local/lib/python3.8/dist-packages (from ipython->keras-tuner) (4.4.2)\n",
            "Requirement already satisfied: backcall in /usr/local/lib/python3.8/dist-packages (from ipython->keras-tuner) (0.2.0)\n",
            "Requirement already satisfied: setuptools>=18.5 in /usr/local/lib/python3.8/dist-packages (from ipython->keras-tuner) (57.4.0)\n",
            "Requirement already satisfied: pexpect in /usr/local/lib/python3.8/dist-packages (from ipython->keras-tuner) (4.8.0)\n",
            "Requirement already satisfied: pickleshare in /usr/local/lib/python3.8/dist-packages (from ipython->keras-tuner) (0.7.5)\n",
            "Requirement already satisfied: pygments in /usr/local/lib/python3.8/dist-packages (from ipython->keras-tuner) (2.6.1)\n",
            "Requirement already satisfied: traitlets>=4.2 in /usr/local/lib/python3.8/dist-packages (from ipython->keras-tuner) (5.6.0)\n",
            "Requirement already satisfied: parso<0.9.0,>=0.8.0 in /usr/local/lib/python3.8/dist-packages (from jedi>=0.10->ipython->keras-tuner) (0.8.3)\n",
            "Requirement already satisfied: wcwidth in /usr/local/lib/python3.8/dist-packages (from prompt-toolkit<2.1.0,>=2.0.0->ipython->keras-tuner) (0.2.5)\n",
            "Requirement already satisfied: six>=1.9.0 in /usr/local/lib/python3.8/dist-packages (from prompt-toolkit<2.1.0,>=2.0.0->ipython->keras-tuner) (1.15.0)\n",
            "Requirement already satisfied: pyparsing!=3.0.5,>=2.0.2 in /usr/local/lib/python3.8/dist-packages (from packaging->keras-tuner) (3.0.9)\n",
            "Requirement already satisfied: ptyprocess>=0.5 in /usr/local/lib/python3.8/dist-packages (from pexpect->ipython->keras-tuner) (0.7.0)\n",
            "Requirement already satisfied: certifi>=2017.4.17 in /usr/local/lib/python3.8/dist-packages (from requests->keras-tuner) (2022.9.24)\n",
            "Requirement already satisfied: urllib3!=1.25.0,!=1.25.1,<1.26,>=1.21.1 in /usr/local/lib/python3.8/dist-packages (from requests->keras-tuner) (1.24.3)\n",
            "Requirement already satisfied: idna<3,>=2.5 in /usr/local/lib/python3.8/dist-packages (from requests->keras-tuner) (2.10)\n",
            "Requirement already satisfied: chardet<4,>=3.0.2 in /usr/local/lib/python3.8/dist-packages (from requests->keras-tuner) (3.0.4)\n",
            "Requirement already satisfied: google-auth<3,>=1.6.3 in /usr/local/lib/python3.8/dist-packages (from tensorboard->keras-tuner) (2.15.0)\n",
            "Requirement already satisfied: markdown>=2.6.8 in /usr/local/lib/python3.8/dist-packages (from tensorboard->keras-tuner) (3.4.1)\n",
            "Requirement already satisfied: google-auth-oauthlib<0.5,>=0.4.1 in /usr/local/lib/python3.8/dist-packages (from tensorboard->keras-tuner) (0.4.6)\n",
            "Requirement already satisfied: tensorboard-plugin-wit>=1.6.0 in /usr/local/lib/python3.8/dist-packages (from tensorboard->keras-tuner) (1.8.1)\n",
            "Requirement already satisfied: protobuf<3.20,>=3.9.2 in /usr/local/lib/python3.8/dist-packages (from tensorboard->keras-tuner) (3.19.6)\n",
            "Requirement already satisfied: werkzeug>=1.0.1 in /usr/local/lib/python3.8/dist-packages (from tensorboard->keras-tuner) (1.0.1)\n",
            "Requirement already satisfied: wheel>=0.26 in /usr/local/lib/python3.8/dist-packages (from tensorboard->keras-tuner) (0.38.4)\n",
            "Requirement already satisfied: tensorboard-data-server<0.7.0,>=0.6.0 in /usr/local/lib/python3.8/dist-packages (from tensorboard->keras-tuner) (0.6.1)\n",
            "Requirement already satisfied: grpcio>=1.24.3 in /usr/local/lib/python3.8/dist-packages (from tensorboard->keras-tuner) (1.51.1)\n",
            "Requirement already satisfied: absl-py>=0.4 in /usr/local/lib/python3.8/dist-packages (from tensorboard->keras-tuner) (1.3.0)\n",
            "Requirement already satisfied: cachetools<6.0,>=2.0.0 in /usr/local/lib/python3.8/dist-packages (from google-auth<3,>=1.6.3->tensorboard->keras-tuner) (5.2.0)\n",
            "Requirement already satisfied: pyasn1-modules>=0.2.1 in /usr/local/lib/python3.8/dist-packages (from google-auth<3,>=1.6.3->tensorboard->keras-tuner) (0.2.8)\n",
            "Requirement already satisfied: rsa<5,>=3.1.4 in /usr/local/lib/python3.8/dist-packages (from google-auth<3,>=1.6.3->tensorboard->keras-tuner) (4.9)\n",
            "Requirement already satisfied: requests-oauthlib>=0.7.0 in /usr/local/lib/python3.8/dist-packages (from google-auth-oauthlib<0.5,>=0.4.1->tensorboard->keras-tuner) (1.3.1)\n",
            "Requirement already satisfied: importlib-metadata>=4.4 in /usr/local/lib/python3.8/dist-packages (from markdown>=2.6.8->tensorboard->keras-tuner) (4.13.0)\n",
            "Requirement already satisfied: zipp>=0.5 in /usr/local/lib/python3.8/dist-packages (from importlib-metadata>=4.4->markdown>=2.6.8->tensorboard->keras-tuner) (3.11.0)\n",
            "Requirement already satisfied: pyasn1<0.5.0,>=0.4.6 in /usr/local/lib/python3.8/dist-packages (from pyasn1-modules>=0.2.1->google-auth<3,>=1.6.3->tensorboard->keras-tuner) (0.4.8)\n",
            "Requirement already satisfied: oauthlib>=3.0.0 in /usr/local/lib/python3.8/dist-packages (from requests-oauthlib>=0.7.0->google-auth-oauthlib<0.5,>=0.4.1->tensorboard->keras-tuner) (3.2.2)\n",
            "Installing collected packages: jedi, kt-legacy, keras-tuner\n",
            "Successfully installed jedi-0.18.2 keras-tuner-1.1.3 kt-legacy-1.0.4\n"
          ]
        }
      ],
      "source": [
        "#bibliotecas padrao\n",
        "!pip install keras-tuner --upgrade\n",
        "import tensorflow as tf\n",
        "from tensorflow import keras\n",
        "\n",
        "import matplotlib.pyplot as plt\n",
        "import seaborn as sns\n",
        "\n",
        "import sklearn\n",
        "from sklearn.model_selection import train_test_split\n",
        "from sklearn.metrics import confusion_matrix\n",
        "\n",
        "import pandas as pd\n",
        "import numpy as np\n",
        "import cv2\n",
        "import os\n",
        "\n",
        "config = {\n",
        "    'ROOT_PATH' : 'breast-histopathology-images',\n",
        "    'IMG_SIZE' : 200,\n",
        "    'BATCH_SIZE' : 8\n",
        "}"
      ],
      "id": "f0f87181"
    },
    {
      "cell_type": "markdown",
      "metadata": {
        "id": "DZoACKfOzR5n"
      },
      "source": [
        "Montando o drive e descompactando o arquivo do dataset. "
      ],
      "id": "DZoACKfOzR5n"
    },
    {
      "cell_type": "code",
      "execution_count": 3,
      "metadata": {
        "colab": {
          "base_uri": "https://localhost:8080/"
        },
        "id": "39ca24c1",
        "outputId": "1cb83069-d0dc-4155-f4cd-6dd17b7b5ec8"
      },
      "outputs": [
        {
          "output_type": "stream",
          "name": "stdout",
          "text": [
            "Mounted at /content/gdrive\n"
          ]
        },
        {
          "output_type": "execute_result",
          "data": {
            "text/plain": [
              "279"
            ]
          },
          "metadata": {},
          "execution_count": 3
        }
      ],
      "source": [
        "#importar o data set devido ao tamanho o zip e descompactado por seção \n",
        "from google.colab import drive\n",
        "drive.mount('/content/gdrive')\n",
        "!unzip gdrive/My\\ Drive/Datasets/archive.zip  -d /breast-histopathology-images/> /dev/null\n",
        "\n",
        "\n",
        "# Excluindo diretorio inutil \n",
        "import shutil\n",
        "shutil.rmtree(\"/breast-histopathology-images/IDC_regular_ps50_idx5/\")\n",
        "\n",
        "import os\n",
        "\n",
        "data = os.listdir(\"/breast-histopathology-images/\")\n",
        "len(data)"
      ],
      "id": "39ca24c1"
    },
    {
      "cell_type": "markdown",
      "metadata": {
        "id": "4de2f8bf"
      },
      "source": [
        "Verificando os 10 primeiros"
      ],
      "id": "4de2f8bf"
    },
    {
      "cell_type": "code",
      "execution_count": 3,
      "metadata": {
        "id": "Gtp0Mj1KGoXs"
      },
      "outputs": [],
      "source": [],
      "id": "Gtp0Mj1KGoXs"
    },
    {
      "cell_type": "code",
      "execution_count": 4,
      "metadata": {
        "colab": {
          "base_uri": "https://localhost:8080/"
        },
        "id": "cf3dedff",
        "outputId": "b4b755f5-b625-49f2-8cad-28d157cc3558"
      },
      "outputs": [
        {
          "output_type": "execute_result",
          "data": {
            "text/plain": [
              "['13666',\n",
              " '10272',\n",
              " '12881',\n",
              " '8974',\n",
              " '14156',\n",
              " '12906',\n",
              " '8914',\n",
              " '9324',\n",
              " '12884',\n",
              " '10301']"
            ]
          },
          "metadata": {},
          "execution_count": 4
        }
      ],
      "source": [
        "data[:10]"
      ],
      "id": "cf3dedff"
    },
    {
      "cell_type": "markdown",
      "metadata": {
        "id": "d961b9ca"
      },
      "source": [
        "Dentro de cada folder existem os folders 0 e 1 - indicando imagens negativas e positivas com relação a IDC"
      ],
      "id": "d961b9ca"
    },
    {
      "cell_type": "markdown",
      "metadata": {
        "id": "bZbl95TeYbZW"
      },
      "source": [],
      "id": "bZbl95TeYbZW"
    },
    {
      "cell_type": "code",
      "execution_count": 5,
      "metadata": {
        "id": "75551b81"
      },
      "outputs": [],
      "source": [
        "patient_10253 = os.listdir(\"/breast-histopathology-images/10253\")"
      ],
      "id": "75551b81"
    },
    {
      "cell_type": "code",
      "execution_count": 6,
      "metadata": {
        "colab": {
          "base_uri": "https://localhost:8080/"
        },
        "id": "eb5a35f2",
        "outputId": "0c43bbcd-3835-4427-8bcd-4d03d8ff3357"
      },
      "outputs": [
        {
          "output_type": "stream",
          "name": "stdout",
          "text": [
            "['10253_idx5_x1001_y1301_class0.png', '10253_idx5_x1801_y1301_class0.png', '10253_idx5_x1151_y651_class0.png', '10253_idx5_x2051_y1101_class0.png', '10253_idx5_x1551_y1251_class0.png']\n",
            "['10253_idx5_x651_y451_class1.png', '10253_idx5_x701_y701_class1.png', '10253_idx5_x851_y301_class1.png', '10253_idx5_x701_y501_class1.png', '10253_idx5_x751_y351_class1.png']\n"
          ]
        }
      ],
      "source": [
        "patient_10253_0 = os.listdir(\"/breast-histopathology-images/10253/0\")\n",
        "patient_10253_1 = os.listdir(\"/breast-histopathology-images/10253/1\")\n",
        "\n",
        "print(patient_10253_0[:5])\n",
        "print(patient_10253_1[:5])"
      ],
      "id": "eb5a35f2"
    },
    {
      "cell_type": "code",
      "execution_count": 7,
      "metadata": {
        "colab": {
          "base_uri": "https://localhost:8080/",
          "height": 892
        },
        "id": "0df4cb4f",
        "outputId": "b1c1000e-b7cf-42cd-ce8e-c54fe1c8d46b"
      },
      "outputs": [
        {
          "output_type": "stream",
          "name": "stdout",
          "text": [
            "                                                  path x_coord y_coord  \\\n",
            "0    /breast-histopathology-images/10253/0/10253_id...    1001    1301   \n",
            "1    /breast-histopathology-images/10253/0/10253_id...    1801    1301   \n",
            "2    /breast-histopathology-images/10253/0/10253_id...    1151     651   \n",
            "3    /breast-histopathology-images/10253/0/10253_id...    2051    1101   \n",
            "4    /breast-histopathology-images/10253/0/10253_id...    1551    1251   \n",
            "..                                                 ...     ...     ...   \n",
            "474  /breast-histopathology-images/10253/0/10253_id...    1651    1001   \n",
            "475  /breast-histopathology-images/10253/0/10253_id...     901     851   \n",
            "476  /breast-histopathology-images/10253/0/10253_id...    2151     701   \n",
            "477  /breast-histopathology-images/10253/0/10253_id...    2151     851   \n",
            "478  /breast-histopathology-images/10253/0/10253_id...    2051    1051   \n",
            "\n",
            "     idc_class  \n",
            "0          0.0  \n",
            "1          0.0  \n",
            "2          0.0  \n",
            "3          0.0  \n",
            "4          0.0  \n",
            "..         ...  \n",
            "474        0.0  \n",
            "475        0.0  \n",
            "476        0.0  \n",
            "477        0.0  \n",
            "478        0.0  \n",
            "\n",
            "[479 rows x 4 columns]\n"
          ]
        },
        {
          "output_type": "execute_result",
          "data": {
            "text/plain": [
              "                                                  path x_coord y_coord  \\\n",
              "0    /breast-histopathology-images/10253/0/10253_id...    1001    1301   \n",
              "1    /breast-histopathology-images/10253/0/10253_id...    1801    1301   \n",
              "2    /breast-histopathology-images/10253/0/10253_id...    1151     651   \n",
              "3    /breast-histopathology-images/10253/0/10253_id...    2051    1101   \n",
              "4    /breast-histopathology-images/10253/0/10253_id...    1551    1251   \n",
              "..                                                 ...     ...     ...   \n",
              "544  /breast-histopathology-images/10253/1/10253_id...     601     651   \n",
              "545  /breast-histopathology-images/10253/1/10253_id...     601     301   \n",
              "546  /breast-histopathology-images/10253/1/10253_id...     751     251   \n",
              "547  /breast-histopathology-images/10253/1/10253_id...     601     701   \n",
              "548  /breast-histopathology-images/10253/1/10253_id...     751     451   \n",
              "\n",
              "     idc_class  \n",
              "0          0.0  \n",
              "1          0.0  \n",
              "2          0.0  \n",
              "3          0.0  \n",
              "4          0.0  \n",
              "..         ...  \n",
              "544        1.0  \n",
              "545        1.0  \n",
              "546        1.0  \n",
              "547        1.0  \n",
              "548        1.0  \n",
              "\n",
              "[549 rows x 4 columns]"
            ],
            "text/html": [
              "\n",
              "  <div id=\"df-d07a2301-7e0b-413a-9907-d50ae0978c06\">\n",
              "    <div class=\"colab-df-container\">\n",
              "      <div>\n",
              "<style scoped>\n",
              "    .dataframe tbody tr th:only-of-type {\n",
              "        vertical-align: middle;\n",
              "    }\n",
              "\n",
              "    .dataframe tbody tr th {\n",
              "        vertical-align: top;\n",
              "    }\n",
              "\n",
              "    .dataframe thead th {\n",
              "        text-align: right;\n",
              "    }\n",
              "</style>\n",
              "<table border=\"1\" class=\"dataframe\">\n",
              "  <thead>\n",
              "    <tr style=\"text-align: right;\">\n",
              "      <th></th>\n",
              "      <th>path</th>\n",
              "      <th>x_coord</th>\n",
              "      <th>y_coord</th>\n",
              "      <th>idc_class</th>\n",
              "    </tr>\n",
              "  </thead>\n",
              "  <tbody>\n",
              "    <tr>\n",
              "      <th>0</th>\n",
              "      <td>/breast-histopathology-images/10253/0/10253_id...</td>\n",
              "      <td>1001</td>\n",
              "      <td>1301</td>\n",
              "      <td>0.0</td>\n",
              "    </tr>\n",
              "    <tr>\n",
              "      <th>1</th>\n",
              "      <td>/breast-histopathology-images/10253/0/10253_id...</td>\n",
              "      <td>1801</td>\n",
              "      <td>1301</td>\n",
              "      <td>0.0</td>\n",
              "    </tr>\n",
              "    <tr>\n",
              "      <th>2</th>\n",
              "      <td>/breast-histopathology-images/10253/0/10253_id...</td>\n",
              "      <td>1151</td>\n",
              "      <td>651</td>\n",
              "      <td>0.0</td>\n",
              "    </tr>\n",
              "    <tr>\n",
              "      <th>3</th>\n",
              "      <td>/breast-histopathology-images/10253/0/10253_id...</td>\n",
              "      <td>2051</td>\n",
              "      <td>1101</td>\n",
              "      <td>0.0</td>\n",
              "    </tr>\n",
              "    <tr>\n",
              "      <th>4</th>\n",
              "      <td>/breast-histopathology-images/10253/0/10253_id...</td>\n",
              "      <td>1551</td>\n",
              "      <td>1251</td>\n",
              "      <td>0.0</td>\n",
              "    </tr>\n",
              "    <tr>\n",
              "      <th>...</th>\n",
              "      <td>...</td>\n",
              "      <td>...</td>\n",
              "      <td>...</td>\n",
              "      <td>...</td>\n",
              "    </tr>\n",
              "    <tr>\n",
              "      <th>544</th>\n",
              "      <td>/breast-histopathology-images/10253/1/10253_id...</td>\n",
              "      <td>601</td>\n",
              "      <td>651</td>\n",
              "      <td>1.0</td>\n",
              "    </tr>\n",
              "    <tr>\n",
              "      <th>545</th>\n",
              "      <td>/breast-histopathology-images/10253/1/10253_id...</td>\n",
              "      <td>601</td>\n",
              "      <td>301</td>\n",
              "      <td>1.0</td>\n",
              "    </tr>\n",
              "    <tr>\n",
              "      <th>546</th>\n",
              "      <td>/breast-histopathology-images/10253/1/10253_id...</td>\n",
              "      <td>751</td>\n",
              "      <td>251</td>\n",
              "      <td>1.0</td>\n",
              "    </tr>\n",
              "    <tr>\n",
              "      <th>547</th>\n",
              "      <td>/breast-histopathology-images/10253/1/10253_id...</td>\n",
              "      <td>601</td>\n",
              "      <td>701</td>\n",
              "      <td>1.0</td>\n",
              "    </tr>\n",
              "    <tr>\n",
              "      <th>548</th>\n",
              "      <td>/breast-histopathology-images/10253/1/10253_id...</td>\n",
              "      <td>751</td>\n",
              "      <td>451</td>\n",
              "      <td>1.0</td>\n",
              "    </tr>\n",
              "  </tbody>\n",
              "</table>\n",
              "<p>549 rows × 4 columns</p>\n",
              "</div>\n",
              "      <button class=\"colab-df-convert\" onclick=\"convertToInteractive('df-d07a2301-7e0b-413a-9907-d50ae0978c06')\"\n",
              "              title=\"Convert this dataframe to an interactive table.\"\n",
              "              style=\"display:none;\">\n",
              "        \n",
              "  <svg xmlns=\"http://www.w3.org/2000/svg\" height=\"24px\"viewBox=\"0 0 24 24\"\n",
              "       width=\"24px\">\n",
              "    <path d=\"M0 0h24v24H0V0z\" fill=\"none\"/>\n",
              "    <path d=\"M18.56 5.44l.94 2.06.94-2.06 2.06-.94-2.06-.94-.94-2.06-.94 2.06-2.06.94zm-11 1L8.5 8.5l.94-2.06 2.06-.94-2.06-.94L8.5 2.5l-.94 2.06-2.06.94zm10 10l.94 2.06.94-2.06 2.06-.94-2.06-.94-.94-2.06-.94 2.06-2.06.94z\"/><path d=\"M17.41 7.96l-1.37-1.37c-.4-.4-.92-.59-1.43-.59-.52 0-1.04.2-1.43.59L10.3 9.45l-7.72 7.72c-.78.78-.78 2.05 0 2.83L4 21.41c.39.39.9.59 1.41.59.51 0 1.02-.2 1.41-.59l7.78-7.78 2.81-2.81c.8-.78.8-2.07 0-2.86zM5.41 20L4 18.59l7.72-7.72 1.47 1.35L5.41 20z\"/>\n",
              "  </svg>\n",
              "      </button>\n",
              "      \n",
              "  <style>\n",
              "    .colab-df-container {\n",
              "      display:flex;\n",
              "      flex-wrap:wrap;\n",
              "      gap: 12px;\n",
              "    }\n",
              "\n",
              "    .colab-df-convert {\n",
              "      background-color: #E8F0FE;\n",
              "      border: none;\n",
              "      border-radius: 50%;\n",
              "      cursor: pointer;\n",
              "      display: none;\n",
              "      fill: #1967D2;\n",
              "      height: 32px;\n",
              "      padding: 0 0 0 0;\n",
              "      width: 32px;\n",
              "    }\n",
              "\n",
              "    .colab-df-convert:hover {\n",
              "      background-color: #E2EBFA;\n",
              "      box-shadow: 0px 1px 2px rgba(60, 64, 67, 0.3), 0px 1px 3px 1px rgba(60, 64, 67, 0.15);\n",
              "      fill: #174EA6;\n",
              "    }\n",
              "\n",
              "    [theme=dark] .colab-df-convert {\n",
              "      background-color: #3B4455;\n",
              "      fill: #D2E3FC;\n",
              "    }\n",
              "\n",
              "    [theme=dark] .colab-df-convert:hover {\n",
              "      background-color: #434B5C;\n",
              "      box-shadow: 0px 1px 3px 1px rgba(0, 0, 0, 0.15);\n",
              "      filter: drop-shadow(0px 1px 2px rgba(0, 0, 0, 0.3));\n",
              "      fill: #FFFFFF;\n",
              "    }\n",
              "  </style>\n",
              "\n",
              "      <script>\n",
              "        const buttonEl =\n",
              "          document.querySelector('#df-d07a2301-7e0b-413a-9907-d50ae0978c06 button.colab-df-convert');\n",
              "        buttonEl.style.display =\n",
              "          google.colab.kernel.accessAllowed ? 'block' : 'none';\n",
              "\n",
              "        async function convertToInteractive(key) {\n",
              "          const element = document.querySelector('#df-d07a2301-7e0b-413a-9907-d50ae0978c06');\n",
              "          const dataTable =\n",
              "            await google.colab.kernel.invokeFunction('convertToInteractive',\n",
              "                                                     [key], {});\n",
              "          if (!dataTable) return;\n",
              "\n",
              "          const docLinkHtml = 'Like what you see? Visit the ' +\n",
              "            '<a target=\"_blank\" href=https://colab.research.google.com/notebooks/data_table.ipynb>data table notebook</a>'\n",
              "            + ' to learn more about interactive tables.';\n",
              "          element.innerHTML = '';\n",
              "          dataTable['output_type'] = 'display_data';\n",
              "          await google.colab.output.renderOutput(dataTable, element);\n",
              "          const docLink = document.createElement('div');\n",
              "          docLink.innerHTML = docLinkHtml;\n",
              "          element.appendChild(docLink);\n",
              "        }\n",
              "      </script>\n",
              "    </div>\n",
              "  </div>\n",
              "  "
            ]
          },
          "metadata": {},
          "execution_count": 7
        }
      ],
      "source": [
        "#analisando um folder \n",
        "df_0 = pd.DataFrame()\n",
        "\n",
        "for path in patient_10253_0:\n",
        "    split = path.split('_')\n",
        "    # Extraindo as coordenadas atraves do path do arquivo\n",
        "    x_coord = split[2][1:]\n",
        "    y_coord = split[3][1:]\n",
        "    idc_class = 0\n",
        "    \n",
        "    data = {\"path\":\"/breast-histopathology-images/10253/0/\"+path,\n",
        "            \"x_coord\": x_coord,\n",
        "            \"y_coord\": y_coord,\n",
        "            \"idc_class\": idc_class}\n",
        "    \n",
        "    df_0 = df_0.append(data, ignore_index=True)\n",
        "    \n",
        "  #verificando as classes   \n",
        "print(df_0)\n",
        "\n",
        "df_1 = pd.DataFrame()\n",
        "\n",
        "for path in patient_10253_1:\n",
        "    split = path.split('_')\n",
        "  \n",
        "    x_coord = split[2][1:]\n",
        "    y_coord = split[3][1:]\n",
        "    idc_class = 1\n",
        "    \n",
        "    data = {\"path\":\"/breast-histopathology-images/10253/1/\"+path,\n",
        "            \"x_coord\": x_coord,\n",
        "            \"y_coord\": y_coord,\n",
        "            \"idc_class\": idc_class}\n",
        "    \n",
        "    df_1 = df_1.append(data, ignore_index=True)\n",
        "    \n",
        "df = df_0.append(df_1).reset_index(drop=True)\n",
        "df"
      ],
      "id": "0df4cb4f"
    },
    {
      "cell_type": "markdown",
      "metadata": {
        "id": "tMBusb2K8zy5"
      },
      "source": [
        "Vamos preparar um grafico mostrando a composicao de imagens um paciente entre positivo e negativo"
      ],
      "id": "tMBusb2K8zy5"
    },
    {
      "cell_type": "code",
      "execution_count": 8,
      "metadata": {
        "id": "3e8fbb20"
      },
      "outputs": [],
      "source": [
        "df['x_coord'] = df['x_coord'].astype('int')\n",
        "df['y_coord'] = df['y_coord'].astype('int')"
      ],
      "id": "3e8fbb20"
    },
    {
      "cell_type": "code",
      "execution_count": 9,
      "metadata": {
        "colab": {
          "base_uri": "https://localhost:8080/",
          "height": 483
        },
        "id": "b1f08d2a",
        "outputId": "a7a04401-63d0-419f-a0ac-a01293cb6da8"
      },
      "outputs": [
        {
          "output_type": "display_data",
          "data": {
            "text/plain": [
              "<Figure size 576x576 with 1 Axes>"
            ],
            "image/png": "[encoded data removed]"
          },
          "metadata": {
            "needs_background": "light"
          }
        }
      ],
      "source": [
        "fig, ax = plt.subplots(figsize=(8, 8))\n",
        "\n",
        "ax.scatter(x = df['x_coord'], y=df['y_coord'], c=df['idc_class'], cmap='coolwarm')\n",
        "plt.show()"
      ],
      "id": "b1f08d2a"
    },
    {
      "cell_type": "code",
      "execution_count": 10,
      "metadata": {
        "colab": {
          "base_uri": "https://localhost:8080/"
        },
        "id": "0f727359",
        "outputId": "ad9e3011-00c0-4261-8100-1f57e2d960b2"
      },
      "outputs": [
        {
          "output_type": "stream",
          "name": "stdout",
          "text": [
            "277524\n"
          ]
        }
      ],
      "source": [
        "#obtendo as informacoes de path de todo dataset\n",
        "from glob import glob\n",
        "data = glob('/breast-histopathology-images/**/*.png', recursive=True)\n",
        "print(len(data))\n"
      ],
      "id": "0f727359"
    },
    {
      "cell_type": "code",
      "execution_count": 11,
      "metadata": {
        "id": "9c7f7b84"
      },
      "outputs": [],
      "source": [
        "dfs = []\n",
        "#Criando a meta informacao do dataset\n",
        "for path in data:\n",
        "    split = path.split('_')\n",
        "     #Obtendo os dados do paciente e imagem a partir da informacao do Path\n",
        "    patient_id = split[0].split('/')[2]\n",
        "    x_coord = split[2][1:]\n",
        "    y_coord = split[3][1:]\n",
        "    idc_class = split[4][-5]\n",
        "    \n",
        "    df_data = {\"patient_id\": patient_id,\n",
        "              \"x_coord\": x_coord,\n",
        "              \"y_coord\": y_coord,\n",
        "              \"idc_class\": idc_class,\n",
        "               \"path\": path}\n",
        "    df = pd.DataFrame()\n",
        "    dfs.append(df.append(df_data, ignore_index=True))\n",
        "    \n",
        "df_all = pd.concat(dfs)"
      ],
      "id": "9c7f7b84"
    },
    {
      "cell_type": "code",
      "execution_count": 12,
      "metadata": {
        "id": "2dc7af3a"
      },
      "outputs": [],
      "source": [
        "df_all = df_all.reset_index(drop=True)"
      ],
      "id": "2dc7af3a"
    },
    {
      "cell_type": "code",
      "execution_count": 13,
      "metadata": {
        "colab": {
          "base_uri": "https://localhost:8080/",
          "height": 424
        },
        "id": "d7ee9b58",
        "outputId": "6d1ea4f8-9d68-406c-fc59-0d07b4eda881"
      },
      "outputs": [
        {
          "output_type": "execute_result",
          "data": {
            "text/plain": [
              "       patient_id x_coord y_coord idc_class  \\\n",
              "0           13666     951    1151         1   \n",
              "1           13666     901    1051         1   \n",
              "2           13666    1201     601         1   \n",
              "3           13666    1201    1151         1   \n",
              "4           13666     951    1201         1   \n",
              "...           ...     ...     ...       ...   \n",
              "277519       9382     351    1051         0   \n",
              "277520       9382    1901     651         0   \n",
              "277521       9382    3001    2451         0   \n",
              "277522       9382     351    1901         0   \n",
              "277523       9382     851    1051         0   \n",
              "\n",
              "                                                     path  \n",
              "0       /breast-histopathology-images/13666/1/13666_id...  \n",
              "1       /breast-histopathology-images/13666/1/13666_id...  \n",
              "2       /breast-histopathology-images/13666/1/13666_id...  \n",
              "3       /breast-histopathology-images/13666/1/13666_id...  \n",
              "4       /breast-histopathology-images/13666/1/13666_id...  \n",
              "...                                                   ...  \n",
              "277519  /breast-histopathology-images/9382/0/9382_idx5...  \n",
              "277520  /breast-histopathology-images/9382/0/9382_idx5...  \n",
              "277521  /breast-histopathology-images/9382/0/9382_idx5...  \n",
              "277522  /breast-histopathology-images/9382/0/9382_idx5...  \n",
              "277523  /breast-histopathology-images/9382/0/9382_idx5...  \n",
              "\n",
              "[277524 rows x 5 columns]"
            ],
            "text/html": [
              "\n",
              "  <div id=\"df-0556bb24-5109-42b5-be39-8a6e6c24cb77\">\n",
              "    <div class=\"colab-df-container\">\n",
              "      <div>\n",
              "<style scoped>\n",
              "    .dataframe tbody tr th:only-of-type {\n",
              "        vertical-align: middle;\n",
              "    }\n",
              "\n",
              "    .dataframe tbody tr th {\n",
              "        vertical-align: top;\n",
              "    }\n",
              "\n",
              "    .dataframe thead th {\n",
              "        text-align: right;\n",
              "    }\n",
              "</style>\n",
              "<table border=\"1\" class=\"dataframe\">\n",
              "  <thead>\n",
              "    <tr style=\"text-align: right;\">\n",
              "      <th></th>\n",
              "      <th>patient_id</th>\n",
              "      <th>x_coord</th>\n",
              "      <th>y_coord</th>\n",
              "      <th>idc_class</th>\n",
              "      <th>path</th>\n",
              "    </tr>\n",
              "  </thead>\n",
              "  <tbody>\n",
              "    <tr>\n",
              "      <th>0</th>\n",
              "      <td>13666</td>\n",
              "      <td>951</td>\n",
              "      <td>1151</td>\n",
              "      <td>1</td>\n",
              "      <td>/breast-histopathology-images/13666/1/13666_id...</td>\n",
              "    </tr>\n",
              "    <tr>\n",
              "      <th>1</th>\n",
              "      <td>13666</td>\n",
              "      <td>901</td>\n",
              "      <td>1051</td>\n",
              "      <td>1</td>\n",
              "      <td>/breast-histopathology-images/13666/1/13666_id...</td>\n",
              "    </tr>\n",
              "    <tr>\n",
              "      <th>2</th>\n",
              "      <td>13666</td>\n",
              "      <td>1201</td>\n",
              "      <td>601</td>\n",
              "      <td>1</td>\n",
              "      <td>/breast-histopathology-images/13666/1/13666_id...</td>\n",
              "    </tr>\n",
              "    <tr>\n",
              "      <th>3</th>\n",
              "      <td>13666</td>\n",
              "      <td>1201</td>\n",
              "      <td>1151</td>\n",
              "      <td>1</td>\n",
              "      <td>/breast-histopathology-images/13666/1/13666_id...</td>\n",
              "    </tr>\n",
              "    <tr>\n",
              "      <th>4</th>\n",
              "      <td>13666</td>\n",
              "      <td>951</td>\n",
              "      <td>1201</td>\n",
              "      <td>1</td>\n",
              "      <td>/breast-histopathology-images/13666/1/13666_id...</td>\n",
              "    </tr>\n",
              "    <tr>\n",
              "      <th>...</th>\n",
              "      <td>...</td>\n",
              "      <td>...</td>\n",
              "      <td>...</td>\n",
              "      <td>...</td>\n",
              "      <td>...</td>\n",
              "    </tr>\n",
              "    <tr>\n",
              "      <th>277519</th>\n",
              "      <td>9382</td>\n",
              "      <td>351</td>\n",
              "      <td>1051</td>\n",
              "      <td>0</td>\n",
              "      <td>/breast-histopathology-images/9382/0/9382_idx5...</td>\n",
              "    </tr>\n",
              "    <tr>\n",
              "      <th>277520</th>\n",
              "      <td>9382</td>\n",
              "      <td>1901</td>\n",
              "      <td>651</td>\n",
              "      <td>0</td>\n",
              "      <td>/breast-histopathology-images/9382/0/9382_idx5...</td>\n",
              "    </tr>\n",
              "    <tr>\n",
              "      <th>277521</th>\n",
              "      <td>9382</td>\n",
              "      <td>3001</td>\n",
              "      <td>2451</td>\n",
              "      <td>0</td>\n",
              "      <td>/breast-histopathology-images/9382/0/9382_idx5...</td>\n",
              "    </tr>\n",
              "    <tr>\n",
              "      <th>277522</th>\n",
              "      <td>9382</td>\n",
              "      <td>351</td>\n",
              "      <td>1901</td>\n",
              "      <td>0</td>\n",
              "      <td>/breast-histopathology-images/9382/0/9382_idx5...</td>\n",
              "    </tr>\n",
              "    <tr>\n",
              "      <th>277523</th>\n",
              "      <td>9382</td>\n",
              "      <td>851</td>\n",
              "      <td>1051</td>\n",
              "      <td>0</td>\n",
              "      <td>/breast-histopathology-images/9382/0/9382_idx5...</td>\n",
              "    </tr>\n",
              "  </tbody>\n",
              "</table>\n",
              "<p>277524 rows × 5 columns</p>\n",
              "</div>\n",
              "      <button class=\"colab-df-convert\" onclick=\"convertToInteractive('df-0556bb24-5109-42b5-be39-8a6e6c24cb77')\"\n",
              "              title=\"Convert this dataframe to an interactive table.\"\n",
              "              style=\"display:none;\">\n",
              "        \n",
              "  <svg xmlns=\"http://www.w3.org/2000/svg\" height=\"24px\"viewBox=\"0 0 24 24\"\n",
              "       width=\"24px\">\n",
              "    <path d=\"M0 0h24v24H0V0z\" fill=\"none\"/>\n",
              "    <path d=\"M18.56 5.44l.94 2.06.94-2.06 2.06-.94-2.06-.94-.94-2.06-.94 2.06-2.06.94zm-11 1L8.5 8.5l.94-2.06 2.06-.94-2.06-.94L8.5 2.5l-.94 2.06-2.06.94zm10 10l.94 2.06.94-2.06 2.06-.94-2.06-.94-.94-2.06-.94 2.06-2.06.94z\"/><path d=\"M17.41 7.96l-1.37-1.37c-.4-.4-.92-.59-1.43-.59-.52 0-1.04.2-1.43.59L10.3 9.45l-7.72 7.72c-.78.78-.78 2.05 0 2.83L4 21.41c.39.39.9.59 1.41.59.51 0 1.02-.2 1.41-.59l7.78-7.78 2.81-2.81c.8-.78.8-2.07 0-2.86zM5.41 20L4 18.59l7.72-7.72 1.47 1.35L5.41 20z\"/>\n",
              "  </svg>\n",
              "      </button>\n",
              "      \n",
              "  <style>\n",
              "    .colab-df-container {\n",
              "      display:flex;\n",
              "      flex-wrap:wrap;\n",
              "      gap: 12px;\n",
              "    }\n",
              "\n",
              "    .colab-df-convert {\n",
              "      background-color: #E8F0FE;\n",
              "      border: none;\n",
              "      border-radius: 50%;\n",
              "      cursor: pointer;\n",
              "      display: none;\n",
              "      fill: #1967D2;\n",
              "      height: 32px;\n",
              "      padding: 0 0 0 0;\n",
              "      width: 32px;\n",
              "    }\n",
              "\n",
              "    .colab-df-convert:hover {\n",
              "      background-color: #E2EBFA;\n",
              "      box-shadow: 0px 1px 2px rgba(60, 64, 67, 0.3), 0px 1px 3px 1px rgba(60, 64, 67, 0.15);\n",
              "      fill: #174EA6;\n",
              "    }\n",
              "\n",
              "    [theme=dark] .colab-df-convert {\n",
              "      background-color: #3B4455;\n",
              "      fill: #D2E3FC;\n",
              "    }\n",
              "\n",
              "    [theme=dark] .colab-df-convert:hover {\n",
              "      background-color: #434B5C;\n",
              "      box-shadow: 0px 1px 3px 1px rgba(0, 0, 0, 0.15);\n",
              "      filter: drop-shadow(0px 1px 2px rgba(0, 0, 0, 0.3));\n",
              "      fill: #FFFFFF;\n",
              "    }\n",
              "  </style>\n",
              "\n",
              "      <script>\n",
              "        const buttonEl =\n",
              "          document.querySelector('#df-0556bb24-5109-42b5-be39-8a6e6c24cb77 button.colab-df-convert');\n",
              "        buttonEl.style.display =\n",
              "          google.colab.kernel.accessAllowed ? 'block' : 'none';\n",
              "\n",
              "        async function convertToInteractive(key) {\n",
              "          const element = document.querySelector('#df-0556bb24-5109-42b5-be39-8a6e6c24cb77');\n",
              "          const dataTable =\n",
              "            await google.colab.kernel.invokeFunction('convertToInteractive',\n",
              "                                                     [key], {});\n",
              "          if (!dataTable) return;\n",
              "\n",
              "          const docLinkHtml = 'Like what you see? Visit the ' +\n",
              "            '<a target=\"_blank\" href=https://colab.research.google.com/notebooks/data_table.ipynb>data table notebook</a>'\n",
              "            + ' to learn more about interactive tables.';\n",
              "          element.innerHTML = '';\n",
              "          dataTable['output_type'] = 'display_data';\n",
              "          await google.colab.output.renderOutput(dataTable, element);\n",
              "          const docLink = document.createElement('div');\n",
              "          docLink.innerHTML = docLinkHtml;\n",
              "          element.appendChild(docLink);\n",
              "        }\n",
              "      </script>\n",
              "    </div>\n",
              "  </div>\n",
              "  "
            ]
          },
          "metadata": {},
          "execution_count": 13
        }
      ],
      "source": [
        "df_all"
      ],
      "id": "d7ee9b58"
    },
    {
      "cell_type": "markdown",
      "metadata": {
        "id": "K4kUrBnS90W5"
      },
      "source": [
        "Vamos criar um grafico para ver o numero de positivos e negativos"
      ],
      "id": "K4kUrBnS90W5"
    },
    {
      "cell_type": "code",
      "execution_count": 14,
      "metadata": {
        "id": "e807cf9f"
      },
      "outputs": [],
      "source": [
        "df_all['x_coord'] = df_all['x_coord'].astype('int')\n",
        "df_all['y_coord'] = df_all['y_coord'].astype('int')\n",
        "df_all['idc_class'] = df_all['idc_class'].astype('int')"
      ],
      "id": "e807cf9f"
    },
    {
      "cell_type": "code",
      "execution_count": 15,
      "metadata": {
        "colab": {
          "base_uri": "https://localhost:8080/",
          "height": 297
        },
        "id": "5e8082eb",
        "outputId": "11a10439-97f0-4957-9ac7-e5f260efadae"
      },
      "outputs": [
        {
          "output_type": "execute_result",
          "data": {
            "text/plain": [
              "<matplotlib.axes._subplots.AxesSubplot at 0x7fe321c3f820>"
            ]
          },
          "metadata": {},
          "execution_count": 15
        },
        {
          "output_type": "display_data",
          "data": {
            "text/plain": [
              "<Figure size 432x288 with 1 Axes>"
            ],
            "image/png": "[encoded data removed]"
          },
          "metadata": {
            "needs_background": "light"
          }
        }
      ],
      "source": [
        "\n",
        "sns.countplot(x='idc_class', data=df_all)"
      ],
      "id": "5e8082eb"
    },
    {
      "cell_type": "markdown",
      "metadata": {
        "id": "MRbmPZTMKcQG"
      },
      "source": [
        "Analisando o numero de imagens (patches) por paciente"
      ],
      "id": "MRbmPZTMKcQG"
    },
    {
      "cell_type": "code",
      "execution_count": 16,
      "metadata": {
        "colab": {
          "base_uri": "https://localhost:8080/"
        },
        "id": "f52d1e4c",
        "outputId": "36d4b64d-b439-4035-bfa9-68276250d75c"
      },
      "outputs": [
        {
          "output_type": "execute_result",
          "data": {
            "text/plain": [
              "13693    2395\n",
              "16550    2302\n",
              "10288    2278\n",
              "10308    2278\n",
              "9323     2216\n",
              "         ... \n",
              "16895     151\n",
              "9175      118\n",
              "8957      111\n",
              "9262       94\n",
              "16534      63\n",
              "Name: patient_id, Length: 279, dtype: int64"
            ]
          },
          "metadata": {},
          "execution_count": 16
        }
      ],
      "source": [
        "df_all['patient_id'].value_counts()"
      ],
      "id": "f52d1e4c"
    },
    {
      "cell_type": "markdown",
      "metadata": {
        "id": "knH9zNRpYUDj"
      },
      "source": [
        "Vamos trabalhar com um subconjunto do dataset original, para agilizar a analise de modelos, apos a conclusão do melhor modelo, vamos aplicar a todo o dataset."
      ],
      "id": "knH9zNRpYUDj"
    },
    {
      "cell_type": "code",
      "execution_count": null,
      "metadata": {
        "colab": {
          "base_uri": "https://localhost:8080/"
        },
        "id": "BXL9mpoYVPwD",
        "outputId": "b2add9d3-4986-4dfe-90a6-c43927caf5e4"
      },
      "outputs": [
        {
          "output_type": "stream",
          "name": "stdout",
          "text": [
            "Criando folders para hist_images\n",
            "Processando imagens \n"
          ]
        }
      ],
      "source": [
        "if not os.path.exists('./hist_images/'):\n",
        "    print('Criando folders para hist_images')\n",
        "    os.mkdir('./hist_images/')\n",
        "\n",
        "    os.mkdir('./hist_images/train/')\n",
        "    os.mkdir('./hist_images/test/')\n",
        "    os.mkdir('./hist_images/valid/')\n",
        "\n",
        "    os.mkdir('./hist_images/train/0/')\n",
        "    os.mkdir('./hist_images/train/1/')\n",
        "    os.mkdir('./hist_images/test/0/')\n",
        "    os.mkdir('./hist_images/test/1/')\n",
        "    \n",
        "    os.mkdir('./hist_images/valid/0/')\n",
        "    os.mkdir('./hist_images/valid/1/')\n",
        "    \n",
        "    print('Processando imagens ')\n",
        "    for batch_num, indices in enumerate(range(1000, len(data), 1000), 1):\n",
        "        X = []\n",
        "        y = []\n",
        "\n",
        "        for i in data[indices-1000:indices]:\n",
        "            if i.endswith('.png'):\n",
        "                label=i[-5]\n",
        "                img = cv2.imread(i)\n",
        "                if img.shape == (50, 50, 3):\n",
        "                    X.append(img)\n",
        "                    y.append(label)\n",
        "\n",
        "\n",
        "        X = np.array(X)\n",
        "        y = np.array(y)\n",
        "\n",
        "        print(f'Processando batch {batch_num}, com imagens de {indices-1000} ate {indices}', end='\\r')\n",
        "\n",
        "        X_train, X_test, y_train, y_test = train_test_split(X, y, shuffle=True, test_size=0.4, stratify=y)\n",
        "\n",
        "        for index, img in enumerate(X_train):\n",
        "            idc_class = y_train[index]\n",
        "            path = os.path.join('hist_images', 'train', str(idc_class), f'batch_{batch_num}_sample_{index}.png')\n",
        "            cv2.imwrite(path, img.astype('int'))\n",
        "\n",
        "        for index, img in enumerate(X_test):\n",
        "            if index%2 == 0:\n",
        "                idc_class = y_test[index]\n",
        "                path = os.path.join('hist_images', 'test', str(idc_class), f'batch_{batch_num}_sample_{index}.png')\n",
        "                cv2.imwrite(path, img.astype('int'))\n",
        "            else:\n",
        "                idc_class = y_test[index]\n",
        "                path = os.path.join('hist_images', 'valid', str(idc_class), f'batch_{batch_num}_sample_{index}.png')\n",
        "                cv2.imwrite(path, img.astype('int'))\n"
      ],
      "id": "BXL9mpoYVPwD"
    },
    {
      "cell_type": "code",
      "execution_count": null,
      "metadata": {
        "id": "6bTT6T_BX0R9"
      },
      "outputs": [],
      "source": [
        "if not os.path.exists('./hist_images_small/'):\n",
        "    print('Criando folders para hist_images_small')\n",
        "    os.mkdir('./hist_images_small/')\n",
        "\n",
        "    os.mkdir('./hist_images_small/train/')\n",
        "    os.mkdir('./hist_images_small/test/')\n",
        "    os.mkdir('./hist_images_small/valid/')\n",
        "\n",
        "    os.mkdir('./hist_images_small/train/0/')\n",
        "    os.mkdir('./hist_images_small/train/1/')\n",
        "    os.mkdir('./hist_images_small/test/0/')\n",
        "    os.mkdir('./hist_images_small/test/1/')\n",
        "    \n",
        "    os.mkdir('./hist_images_small/valid/0/')\n",
        "    os.mkdir('./hist_images_small/valid/1/')\n",
        "    \n",
        "    #Carregando somente 10% dos dados\n",
        "    print('hist_images_small não  processado, processando agora')\n",
        "    for batch_num, indices in enumerate(range(1000, int(len(data)/10), 1000), 1):\n",
        "        X = []\n",
        "        y = []\n",
        "\n",
        "        for i in data[indices-1000:indices]:\n",
        "            if i.endswith('.png'):\n",
        "                label=i[-5]\n",
        "                img = cv2.imread(i)\n",
        "                if img.shape == (50, 50, 3):\n",
        "                    X.append(img)\n",
        "                    y.append(label)\n",
        "\n",
        "\n",
        "        X = np.array(X)\n",
        "        y = np.array(y)\n",
        "\n",
        "        print(f'Processando  batch {batch_num}, com imagens de {indices-1000} ate {indices}', end='\\r')\n",
        "\n",
        "        X_train, X_test, y_train, y_test = train_test_split(X,y, shuffle=True, test_size=0.4, stratify=y)\n",
        "\n",
        "        for index, img in enumerate(X_train):\n",
        "            idc_class = y_train[index]\n",
        "            path = os.path.join('hist_images_small', 'train', str(idc_class), f'batch_{batch_num}_sample_{index}.png')\n",
        "            cv2.imwrite(path, img.astype('int'))\n",
        "\n",
        "        for index, img in enumerate(X_test):\n",
        "            if index%2 == 0:\n",
        "                idc_class = y_test[index]\n",
        "                path = os.path.join('hist_images_small', 'test', str(idc_class), f'batch_{batch_num}_sample_{index}.png')\n",
        "                cv2.imwrite(path, img.astype('int'))\n",
        "            else:\n",
        "                idc_class = y_test[index]\n",
        "                path = os.path.join('hist_images_small', 'valid', str(idc_class), f'batch_{batch_num}_sample_{index}.png')\n",
        "                cv2.imwrite(path, img.astype('int'))"
      ],
      "id": "6bTT6T_BX0R9"
    },
    {
      "cell_type": "code",
      "execution_count": null,
      "metadata": {
        "id": "pznkYmCJbKTm"
      },
      "outputs": [],
      "source": [
        "#Criando datasets de treino, teste e validação com 10% do total "
      ],
      "id": "pznkYmCJbKTm"
    },
    {
      "cell_type": "code",
      "execution_count": null,
      "metadata": {
        "id": "wD_cwjhcbG0j"
      },
      "outputs": [],
      "source": [
        "train_paths = glob(os.path.join('hist_images', 'train', '*', '*'), recursive=True)\n",
        "test_paths = glob(os.path.join('hist_images', 'test', '*', '*'), recursive=True)\n",
        "valid_paths = glob(os.path.join('hist_images', 'valid', '*', '*'), recursive=True)\n",
        "\n",
        "train_paths_small = glob(os.path.join('hist_images_small', 'train', '*', '*'), recursive=True)\n",
        "test_paths_small = glob(os.path.join('hist_images_small', 'test', '*', '*'), recursive=True)\n",
        "valid_paths_small = glob(os.path.join('hist_images_small', 'valid', '*', '*'), recursive=True)\n",
        "\n",
        "print(len(train_paths))\n",
        "print(len(test_paths))\n",
        "print(len(test_paths))"
      ],
      "id": "wD_cwjhcbG0j"
    },
    {
      "cell_type": "code",
      "execution_count": null,
      "metadata": {
        "id": "4ywk93UnbmkW"
      },
      "outputs": [],
      "source": [
        "print(len(train_paths_small))\n",
        "print(len(test_paths_small))\n",
        "print(len(test_paths_small))"
      ],
      "id": "4ywk93UnbmkW"
    },
    {
      "cell_type": "code",
      "execution_count": null,
      "metadata": {
        "id": "mGSTR--3cbqM"
      },
      "outputs": [],
      "source": [
        "train_paths[:5]"
      ],
      "id": "mGSTR--3cbqM"
    },
    {
      "cell_type": "code",
      "execution_count": null,
      "metadata": {
        "id": "132jzKI5csb5"
      },
      "outputs": [],
      "source": [
        "def get_labels(pathlist):\n",
        "    labels = []\n",
        "    for path in pathlist:\n",
        "        labels.append(int(path.split('/')[2]))\n",
        "    labels = np.array(labels)\n",
        "    return labels\n",
        "\n",
        "train_labels = get_labels(train_paths)\n",
        "test_labels = get_labels(test_paths)\n",
        "valid_labels = get_labels(valid_paths)\n",
        "\n",
        "train_labels_small = get_labels(train_paths_small)\n",
        "test_labels_small = get_labels(test_paths_small)\n",
        "valid_labels_small = get_labels(valid_paths_small)"
      ],
      "id": "132jzKI5csb5"
    },
    {
      "cell_type": "code",
      "execution_count": null,
      "metadata": {
        "id": "Ip0mm-h4dVs4"
      },
      "outputs": [],
      "source": [
        "train_labels[:5]"
      ],
      "id": "Ip0mm-h4dVs4"
    },
    {
      "cell_type": "code",
      "execution_count": null,
      "metadata": {
        "id": "5yjZ17hkwlNP"
      },
      "outputs": [],
      "source": [
        "def preprocess(image_path, label):  #Utilizando o keras para fazer a transformacao\n",
        "    img = tf.io.read_file(image_path)\n",
        "    img = tf.image.decode_jpeg(img)\n",
        "    img = tf.image.resize(img, size=[config['IMG_SIZE'], config['IMG_SIZE']])\n",
        "    img = tf.cast(img, tf.float32)\n",
        "    \n",
        "    label = tf.cast(label, tf.float32)\n",
        "\n",
        "    return img, label"
      ],
      "id": "5yjZ17hkwlNP"
    },
    {
      "cell_type": "code",
      "execution_count": null,
      "metadata": {
        "id": "0TlzZX_LKte5"
      },
      "outputs": [],
      "source": [
        "def create_dataset(images, labels): #Utilizando o keras para criar o dataset\n",
        "    dataset = tf.data.Dataset.from_tensor_slices((images, labels)).shuffle(len(images)) #shuffle \n",
        "    #Vamos passar preprocess em todo dataset\n",
        "    dataset = dataset.map(preprocess, num_parallel_calls=tf.data.AUTOTUNE).batch(config['BATCH_SIZE'], drop_remainder=True).prefetch(tf.data.AUTOTUNE)\n",
        "    return dataset"
      ],
      "id": "0TlzZX_LKte5"
    },
    {
      "cell_type": "code",
      "execution_count": null,
      "metadata": {
        "id": "BalZFBcqMz6G"
      },
      "outputs": [],
      "source": [],
      "id": "BalZFBcqMz6G"
    },
    {
      "cell_type": "code",
      "execution_count": null,
      "metadata": {
        "id": "DqDC7FR6LEOG"
      },
      "outputs": [],
      "source": [
        "train_set = create_dataset(train_paths, train_labels)\n",
        "test_set = create_dataset(test_paths, test_labels)\n",
        "valid_set = create_dataset(valid_paths, valid_labels)\n",
        "\n",
        "train_set_small = create_dataset(train_paths_small, train_labels_small) #data set menor para execução \n",
        "test_set_small = create_dataset(test_paths_small, test_labels_small)\n",
        "valid_set_small = create_dataset(valid_paths_small, valid_labels_small)"
      ],
      "id": "DqDC7FR6LEOG"
    },
    {
      "cell_type": "code",
      "execution_count": null,
      "metadata": {
        "id": "HUGMy0AfLHVu"
      },
      "outputs": [],
      "source": [
        "for img_batch, label_batch in valid_set_small.take(1):\n",
        "    fig = plt.figure(figsize=(10,10))\n",
        "    for i in range(len(img_batch)):\n",
        "        ax = fig.add_subplot(4,4,i+1)\n",
        "        ax.imshow(img_batch[i].numpy().astype('int'))\n",
        "        ax.set_title(label_batch[i].numpy())\n",
        "plt.tight_layout()"
      ],
      "id": "HUGMy0AfLHVu"
    },
    {
      "cell_type": "code",
      "execution_count": null,
      "metadata": {
        "id": "AyGz1cmwLcbU"
      },
      "outputs": [],
      "source": [
        "class_weights = {0:1, 1:3}   #Dado que a base e desbalanceada, decidimos colocar mais peso na classe 1 "
      ],
      "id": "AyGz1cmwLcbU"
    },
    {
      "cell_type": "markdown",
      "metadata": {
        "id": "qH5MYC6AK-Tk"
      },
      "source": [
        "Criando a o modelo de CNN afunilando no detalhe dos filtros"
      ],
      "id": "qH5MYC6AK-Tk"
    },
    {
      "cell_type": "code",
      "execution_count": null,
      "metadata": {
        "colab": {
          "base_uri": "https://localhost:8080/"
        },
        "id": "j-qLMsYwLqlT",
        "outputId": "20715282-231c-47eb-c10a-66141106105b"
      },
      "outputs": [
        {
          "name": "stdout",
          "output_type": "stream",
          "text": [
            "Model: \"sequential\"\n",
            "_________________________________________________________________\n",
            " Layer (type)                Output Shape              Param #   \n",
            "=================================================================\n",
            " random_rotation (RandomRota  (None, 200, 200, 3)      0         \n",
            " tion)                                                           \n",
            "                                                                 \n",
            " random_zoom (RandomZoom)    (None, 200, 200, 3)       0         \n",
            "                                                                 \n",
            " random_flip (RandomFlip)    (None, 200, 200, 3)       0         \n",
            "                                                                 \n",
            " conv2d (Conv2D)             (None, 200, 200, 32)      896       \n",
            "                                                                 \n",
            " conv2d_1 (Conv2D)           (None, 200, 200, 32)      9248      \n",
            "                                                                 \n",
            " max_pooling2d (MaxPooling2D  (None, 100, 100, 32)     0         \n",
            " )                                                               \n",
            "                                                                 \n",
            " batch_normalization (BatchN  (None, 100, 100, 32)     128       \n",
            " ormalization)                                                   \n",
            "                                                                 \n",
            " conv2d_2 (Conv2D)           (None, 100, 100, 64)      8256      \n",
            "                                                                 \n",
            " conv2d_3 (Conv2D)           (None, 100, 100, 64)      16448     \n",
            "                                                                 \n",
            " max_pooling2d_1 (MaxPooling  (None, 50, 50, 64)       0         \n",
            " 2D)                                                             \n",
            "                                                                 \n",
            " batch_normalization_1 (Batc  (None, 50, 50, 64)       256       \n",
            " hNormalization)                                                 \n",
            "                                                                 \n",
            " conv2d_4 (Conv2D)           (None, 50, 50, 128)       73856     \n",
            "                                                                 \n",
            " conv2d_5 (Conv2D)           (None, 50, 50, 128)       147584    \n",
            "                                                                 \n",
            " max_pooling2d_2 (MaxPooling  (None, 25, 25, 128)      0         \n",
            " 2D)                                                             \n",
            "                                                                 \n",
            " batch_normalization_2 (Batc  (None, 25, 25, 128)      512       \n",
            " hNormalization)                                                 \n",
            "                                                                 \n",
            " conv2d_6 (Conv2D)           (None, 25, 25, 256)       295168    \n",
            "                                                                 \n",
            " conv2d_7 (Conv2D)           (None, 25, 25, 256)       590080    \n",
            "                                                                 \n",
            " max_pooling2d_3 (MaxPooling  (None, 12, 12, 256)      0         \n",
            " 2D)                                                             \n",
            "                                                                 \n",
            " batch_normalization_3 (Batc  (None, 12, 12, 256)      1024      \n",
            " hNormalization)                                                 \n",
            "                                                                 \n",
            " conv2d_8 (Conv2D)           (None, 12, 12, 512)       1180160   \n",
            "                                                                 \n",
            " conv2d_9 (Conv2D)           (None, 12, 12, 512)       2359808   \n",
            "                                                                 \n",
            " max_pooling2d_4 (MaxPooling  (None, 6, 6, 512)        0         \n",
            " 2D)                                                             \n",
            "                                                                 \n",
            " batch_normalization_4 (Batc  (None, 6, 6, 512)        2048      \n",
            " hNormalization)                                                 \n",
            "                                                                 \n",
            " flatten (Flatten)           (None, 18432)             0         \n",
            "                                                                 \n",
            " dense (Dense)               (None, 32)                589856    \n",
            "                                                                 \n",
            " batch_normalization_5 (Batc  (None, 32)               128       \n",
            " hNormalization)                                                 \n",
            "                                                                 \n",
            " dropout (Dropout)           (None, 32)                0         \n",
            "                                                                 \n",
            " dense_1 (Dense)             (None, 1)                 33        \n",
            "                                                                 \n",
            "=================================================================\n",
            "Total params: 5,275,489\n",
            "Trainable params: 5,273,441\n",
            "Non-trainable params: 2,048\n",
            "_________________________________________________________________\n"
          ]
        }
      ],
      "source": [
        "model = keras.models.Sequential([  #Modelo de Rede CNN similar ao dado em aula, e inspirado nos modelos VGG afunilando a extracao de features.   \n",
        "    keras.layers.InputLayer(input_shape=[config['IMG_SIZE'], config['IMG_SIZE'], 3]),\n",
        "    keras.layers.RandomRotation(0.2),\n",
        "    keras.layers.RandomZoom(0.15),\n",
        "    keras.layers.RandomFlip(\"horizontal\"),\n",
        "    \n",
        "    keras.layers.Conv2D(32, 3, activation='relu', padding='same',),\n",
        "    keras.layers.Conv2D(32, 3, activation='relu', padding='same'),\n",
        "    keras.layers.MaxPooling2D(2),\n",
        "    keras.layers.BatchNormalization(),\n",
        "    \n",
        "    keras.layers.Conv2D(64, 2, activation='relu', padding='same'),\n",
        "    keras.layers.Conv2D(64, 2, activation='relu', padding='same'),\n",
        "    keras.layers.MaxPooling2D(2),\n",
        "    keras.layers.BatchNormalization(),\n",
        "    \n",
        "    keras.layers.Conv2D(128, 3, activation='relu', padding='same'),\n",
        "    keras.layers.Conv2D(128, 3, activation='relu', padding='same'),\n",
        "    keras.layers.MaxPooling2D(2),\n",
        "    keras.layers.BatchNormalization(),\n",
        "    \n",
        "    keras.layers.Conv2D(256, 3, activation='relu', padding='same'),\n",
        "    keras.layers.Conv2D(256, 3, activation='relu', padding='same'),\n",
        "    keras.layers.MaxPooling2D(2),\n",
        "    keras.layers.BatchNormalization(),\n",
        "    \n",
        "    keras.layers.Conv2D(512, 3, activation='relu', padding='same'),\n",
        "    keras.layers.Conv2D(512, 3, activation='relu', padding='same'),\n",
        "    keras.layers.MaxPooling2D(2),\n",
        "    keras.layers.BatchNormalization(),\n",
        "    \n",
        "    keras.layers.Flatten(),    \n",
        "    keras.layers.Dense(32, activation='relu'),\n",
        "    keras.layers.BatchNormalization(),\n",
        "    keras.layers.Dropout(0.4),\n",
        "    keras.layers.Dense(1, activation='sigmoid') #usamos sigmoid por ser uma classifação binaria\n",
        "])\n",
        "\n",
        "model.summary()"
      ],
      "id": "j-qLMsYwLqlT"
    },
    {
      "cell_type": "markdown",
      "metadata": {
        "id": "5oUS48VWcXSf"
      },
      "source": [
        "Temos uma rede com 5.2 milhoes de parametros treináveis.  Vamos definir parametros de callbacks caso nao melhore com o tempo"
      ],
      "id": "5oUS48VWcXSf"
    },
    {
      "cell_type": "code",
      "execution_count": null,
      "metadata": {
        "colab": {
          "base_uri": "https://localhost:8080/"
        },
        "id": "l7Flh66bM2NS",
        "outputId": "7efe40f3-5c12-4cf9-aa87-6ec90128c093"
      },
      "outputs": [
        {
          "name": "stdout",
          "output_type": "stream",
          "text": [
            "Epoch 1/15\n",
            "2010/2010 [==============================] - 112s 50ms/step - loss: 0.8233 - binary_accuracy: 0.7409 - precision: 0.4960 - recall: 0.7758 - auc: 0.8152 - val_loss: 0.5102 - val_binary_accuracy: 0.8045 - val_precision: 0.8182 - val_recall: 0.3072 - val_auc: 0.8149\n",
            "Epoch 2/15\n",
            "2010/2010 [==============================] - 103s 51ms/step - loss: 0.7275 - binary_accuracy: 0.7716 - precision: 0.5355 - recall: 0.8164 - auc: 0.8513 - val_loss: 0.4363 - val_binary_accuracy: 0.7953 - val_precision: 0.5731 - val_recall: 0.8013 - val_auc: 0.8858\n",
            "Epoch 3/15\n",
            "2010/2010 [==============================] - 103s 51ms/step - loss: 0.6940 - binary_accuracy: 0.7774 - precision: 0.5432 - recall: 0.8230 - auc: 0.8658 - val_loss: 0.3638 - val_binary_accuracy: 0.8485 - val_precision: 0.7159 - val_recall: 0.6817 - val_auc: 0.8898\n",
            "Epoch 4/15\n",
            "2010/2010 [==============================] - 103s 51ms/step - loss: 0.6683 - binary_accuracy: 0.7886 - precision: 0.5590 - recall: 0.8261 - auc: 0.8767 - val_loss: 0.3464 - val_binary_accuracy: 0.8539 - val_precision: 0.7218 - val_recall: 0.7025 - val_auc: 0.9029\n",
            "Epoch 5/15\n",
            "2010/2010 [==============================] - 102s 51ms/step - loss: 0.6667 - binary_accuracy: 0.7924 - precision: 0.5638 - recall: 0.8353 - auc: 0.8769 - val_loss: 0.3726 - val_binary_accuracy: 0.8287 - val_precision: 0.6235 - val_recall: 0.8417 - val_auc: 0.9104\n",
            "Epoch 6/15\n",
            "2010/2010 [==============================] - 102s 51ms/step - loss: 0.6706 - binary_accuracy: 0.8016 - precision: 0.5801 - recall: 0.8156 - auc: 0.8756 - val_loss: 0.4242 - val_binary_accuracy: 0.8228 - val_precision: 0.7910 - val_recall: 0.4228 - val_auc: 0.8314\n",
            "Epoch 7/15\n",
            "2010/2010 [==============================] - 102s 51ms/step - loss: 0.6728 - binary_accuracy: 0.7965 - precision: 0.5714 - recall: 0.8200 - auc: 0.8745 - val_loss: 0.6056 - val_binary_accuracy: 0.7812 - val_precision: 0.8248 - val_recall: 0.1881 - val_auc: 0.7205\n",
            "Epoch 8/15\n",
            "2010/2010 [==============================] - 103s 51ms/step - loss: 0.6420 - binary_accuracy: 0.8085 - precision: 0.5899 - recall: 0.8278 - auc: 0.8867 - val_loss: 0.3127 - val_binary_accuracy: 0.8677 - val_precision: 0.7443 - val_recall: 0.7384 - val_auc: 0.9201\n",
            "Epoch 9/15\n",
            "2010/2010 [==============================] - 102s 51ms/step - loss: 0.6315 - binary_accuracy: 0.8169 - precision: 0.6021 - recall: 0.8399 - auc: 0.8905 - val_loss: 0.4331 - val_binary_accuracy: 0.8323 - val_precision: 0.7162 - val_recall: 0.5765 - val_auc: 0.8384\n",
            "Epoch 10/15\n",
            "2010/2010 [==============================] - 103s 51ms/step - loss: 0.6267 - binary_accuracy: 0.8152 - precision: 0.6002 - recall: 0.8333 - auc: 0.8921 - val_loss: 0.3261 - val_binary_accuracy: 0.8666 - val_precision: 0.8568 - val_recall: 0.5776 - val_auc: 0.9166\n",
            "Epoch 11/15\n",
            "2010/2010 [==============================] - 102s 51ms/step - loss: 0.6260 - binary_accuracy: 0.8169 - precision: 0.6028 - recall: 0.8354 - auc: 0.8927 - val_loss: 0.6024 - val_binary_accuracy: 0.8099 - val_precision: 0.8108 - val_recall: 0.3391 - val_auc: 0.8149\n",
            "Epoch 12/15\n",
            "2010/2010 [==============================] - 103s 51ms/step - loss: 0.6271 - binary_accuracy: 0.8123 - precision: 0.5955 - recall: 0.8332 - auc: 0.8920 - val_loss: 0.3338 - val_binary_accuracy: 0.8558 - val_precision: 0.6885 - val_recall: 0.8019 - val_auc: 0.9194\n",
            "Epoch 13/15\n",
            "2010/2010 [==============================] - 102s 51ms/step - loss: 0.6069 - binary_accuracy: 0.8186 - precision: 0.6051 - recall: 0.8382 - auc: 0.8994 - val_loss: 0.3632 - val_binary_accuracy: 0.8662 - val_precision: 0.7594 - val_recall: 0.7027 - val_auc: 0.9109\n"
          ]
        }
      ],
      "source": [
        "callbacks = [\n",
        "    tf.keras.callbacks.EarlyStopping(patience=5),\n",
        "    tf.keras.callbacks.ModelCheckpoint(filepath='breast_cancer_custom.h5', save_best_only=True)\n",
        "]\n",
        "\n",
        "model.compile(loss=\"binary_crossentropy\",  #Usada por ser uma classificaçao binaria\n",
        "              optimizer='adam',\n",
        "              metrics=[\n",
        "                  keras.metrics.BinaryAccuracy(),\n",
        "                  keras.metrics.Precision(),\n",
        "                  keras.metrics.Recall(),\n",
        "                  keras.metrics.AUC()\n",
        "              ])\n",
        "\n",
        "history = model.fit(train_set_small,\n",
        "                     validation_data = valid_set_small,\n",
        "                     callbacks = callbacks,\n",
        "                     epochs = 15,\n",
        "                     class_weight = class_weights)"
      ],
      "id": "l7Flh66bM2NS"
    },
    {
      "cell_type": "markdown",
      "metadata": {
        "id": "7CcL-ysTc06O"
      },
      "source": [
        "Vamos avaliar a matriz de confusão e o relatório de classificação"
      ],
      "id": "7CcL-ysTc06O"
    },
    {
      "cell_type": "code",
      "execution_count": null,
      "metadata": {
        "colab": {
          "base_uri": "https://localhost:8080/",
          "height": 294
        },
        "id": "UEu4u9v4YsZ5",
        "outputId": "a3fb457f-0c48-4556-f1f9-c8829e73ef5d"
      },
      "outputs": [
        {
          "data": {
            "image/png": "[encoded data removed]",
            "text/plain": [
              "<Figure size 1152x288 with 2 Axes>"
            ]
          },
          "metadata": {},
          "output_type": "display_data"
        }
      ],
      "source": [
        "acc, val_acc = history.history['binary_accuracy'], history.history['val_binary_accuracy']\n",
        "loss, val_loss = history.history['loss'], history.history['val_loss']\n",
        "fig, ax = plt.subplots(1, 2, figsize=(16, 4))\n",
        "fig.suptitle('IDC Classification', fontsize=18)\n",
        "\n",
        "ax[0].plot(acc, label='Accuracy')\n",
        "ax[0].plot(val_acc, label='Validation Accuracy')\n",
        "ax[0].grid(axis='y', linestyle='--')\n",
        "\n",
        "ax[1].plot(loss, label='Loss')\n",
        "ax[1].plot(val_loss, label='Validation Loss')\n",
        "ax[1].grid(axis='y', linestyle='--')\n",
        "\n",
        "ax[0].legend()\n",
        "ax[1].legend()\n",
        "plt.show()"
      ],
      "id": "UEu4u9v4YsZ5"
    },
    {
      "cell_type": "markdown",
      "metadata": {
        "id": "t6weViIZ6rxN"
      },
      "source": [],
      "id": "t6weViIZ6rxN"
    },
    {
      "cell_type": "code",
      "execution_count": null,
      "metadata": {
        "colab": {
          "base_uri": "https://localhost:8080/",
          "height": 421
        },
        "id": "aA80lJJkZldL",
        "outputId": "0bee64c9-3286-45ea-929b-7aa7a069b6e1"
      },
      "outputs": [
        {
          "name": "stdout",
          "output_type": "stream",
          "text": []
        },
        {
          "data": {
            "image/png": "[encoded data removed]",
            "text/plain": [
              "<Figure size 432x288 with 2 Axes>"
            ]
          },
          "metadata": {},
          "output_type": "display_data"
        },
        {
          "name": "stdout",
          "output_type": "stream",
          "text": [
            "              precision    recall  f1-score   support\n",
            "\n",
            "         0.0       0.91      0.91      0.91      3996\n",
            "         1.0       0.74      0.74      0.74      1364\n",
            "\n",
            "    accuracy                           0.87      5360\n",
            "   macro avg       0.83      0.83      0.83      5360\n",
            "weighted avg       0.87      0.87      0.87      5360\n",
            "\n"
          ]
        }
      ],
      "source": [
        "model3 = keras.models.load_model('breast_cancer_custom.h5')\n",
        "\n",
        "y_pred = np.array([])\n",
        "y_true_small = np.array([])\n",
        "count = 0\n",
        "\n",
        "for x, y in test_set_small:\n",
        "    print(f'Avaliando {count}/{len(test_set_small)}', end='\\r')\n",
        "    count += 1\n",
        "    y_pred = np.concatenate([y_pred, model3(x).numpy().flatten()])\n",
        "    y_true_small = np.concatenate([y_true_small, y.numpy()])\n",
        "#Imprimindo a Matriz de Confusão\n",
        "sns.heatmap(confusion_matrix(y_true_small, np.round(y_pred)), annot=True, fmt='g')\n",
        "plt.show()\n",
        "#Imprimindo o relatorio de classificação\n",
        "print(sklearn.metrics.classification_report(y_true_small, np.round(y_pred)))"
      ],
      "id": "aA80lJJkZldL"
    },
    {
      "cell_type": "markdown",
      "metadata": {
        "id": "GhU7DKYCi1K9"
      },
      "source": [
        "Modelo 2 - EfficientNetV2S "
      ],
      "id": "GhU7DKYCi1K9"
    },
    {
      "cell_type": "code",
      "execution_count": null,
      "metadata": {
        "colab": {
          "base_uri": "https://localhost:8080/"
        },
        "id": "Q6YFlIn6bpZS",
        "outputId": "1b6f5213-a307-49fd-d299-def74e3f882e"
      },
      "outputs": [
        {
          "name": "stdout",
          "output_type": "stream",
          "text": [
            "Downloading data from https://storage.googleapis.com/tensorflow/keras-applications/efficientnet_v2/efficientnetv2-s_notop.h5\n",
            "82420632/82420632 [==============================] - 5s 0us/step\n",
            "Model: \"sequential_1\"\n",
            "_________________________________________________________________\n",
            " Layer (type)                Output Shape              Param #   \n",
            "=================================================================\n",
            " random_rotation_1 (RandomRo  (None, 200, 200, 3)      0         \n",
            " tation)                                                         \n",
            "                                                                 \n",
            " random_zoom_1 (RandomZoom)  (None, 200, 200, 3)       0         \n",
            "                                                                 \n",
            " random_flip_1 (RandomFlip)  (None, 200, 200, 3)       0         \n",
            "                                                                 \n",
            " efficientnetv2-s (Functiona  (None, None, None, 1280)  20331360 \n",
            " l)                                                              \n",
            "                                                                 \n",
            " global_average_pooling2d (G  (None, 1280)             0         \n",
            " lobalAveragePooling2D)                                          \n",
            "                                                                 \n",
            " dropout_1 (Dropout)         (None, 1280)              0         \n",
            "                                                                 \n",
            " dense_2 (Dense)             (None, 1)                 1281      \n",
            "                                                                 \n",
            "=================================================================\n",
            "Total params: 20,332,641\n",
            "Trainable params: 20,178,769\n",
            "Non-trainable params: 153,872\n",
            "_________________________________________________________________\n",
            "Epoch 1/15\n",
            "2010/2010 [==============================] - 306s 144ms/step - loss: 0.6434 - binary_accuracy: 0.8130 - precision_1: 0.5973 - recall_1: 0.8275 - auc_1: 0.8877 - val_loss: 0.3547 - val_binary_accuracy: 0.8698 - val_precision_1: 0.7321 - val_recall_1: 0.7788 - val_auc_1: 0.9112\n",
            "Epoch 2/15\n",
            "2010/2010 [==============================] - 286s 142ms/step - loss: 0.5736 - binary_accuracy: 0.8448 - precision_1: 0.6525 - recall_1: 0.8424 - auc_1: 0.9108 - val_loss: 0.3322 - val_binary_accuracy: 0.8767 - val_precision_1: 0.7081 - val_recall_1: 0.8853 - val_auc_1: 0.9443\n",
            "Epoch 3/15\n",
            "2010/2010 [==============================] - 284s 141ms/step - loss: 0.5542 - binary_accuracy: 0.8533 - precision_1: 0.6706 - recall_1: 0.8389 - auc_1: 0.9164 - val_loss: 0.4540 - val_binary_accuracy: 0.7925 - val_precision_1: 0.5560 - val_recall_1: 0.9557 - val_auc_1: 0.9472\n",
            "Epoch 4/15\n",
            "2010/2010 [==============================] - 303s 151ms/step - loss: 0.5344 - binary_accuracy: 0.8548 - precision_1: 0.6695 - recall_1: 0.8547 - auc_1: 0.9224 - val_loss: 0.2838 - val_binary_accuracy: 0.8877 - val_precision_1: 0.7594 - val_recall_1: 0.8244 - val_auc_1: 0.9439\n",
            "Epoch 5/15\n",
            "2010/2010 [==============================] - 287s 143ms/step - loss: 0.5277 - binary_accuracy: 0.8597 - precision_1: 0.6818 - recall_1: 0.8477 - auc_1: 0.9247 - val_loss: 0.3057 - val_binary_accuracy: 0.8802 - val_precision_1: 0.7125 - val_recall_1: 0.8955 - val_auc_1: 0.9522\n",
            "Epoch 6/15\n",
            "2010/2010 [==============================] - 287s 143ms/step - loss: 0.5008 - binary_accuracy: 0.8646 - precision_1: 0.6870 - recall_1: 0.8652 - auc_1: 0.9320 - val_loss: 0.2731 - val_binary_accuracy: 0.8910 - val_precision_1: 0.7602 - val_recall_1: 0.8418 - val_auc_1: 0.9476\n",
            "Epoch 7/15\n",
            "2010/2010 [==============================] - 285s 142ms/step - loss: 0.4910 - binary_accuracy: 0.8676 - precision_1: 0.6938 - recall_1: 0.8642 - auc_1: 0.9348 - val_loss: 0.3869 - val_binary_accuracy: 0.8336 - val_precision_1: 0.6160 - val_recall_1: 0.9361 - val_auc_1: 0.9512\n",
            "Epoch 8/15\n",
            "2010/2010 [==============================] - 285s 142ms/step - loss: 0.4872 - binary_accuracy: 0.8720 - precision_1: 0.7017 - recall_1: 0.8701 - auc_1: 0.9352 - val_loss: 0.2978 - val_binary_accuracy: 0.8791 - val_precision_1: 0.7037 - val_recall_1: 0.9151 - val_auc_1: 0.9538\n",
            "Epoch 9/15\n",
            "2010/2010 [==============================] - 285s 142ms/step - loss: 0.4752 - binary_accuracy: 0.8767 - precision_1: 0.7112 - recall_1: 0.8732 - auc_1: 0.9385 - val_loss: 0.2828 - val_binary_accuracy: 0.8868 - val_precision_1: 0.7279 - val_recall_1: 0.8941 - val_auc_1: 0.9565\n",
            "Epoch 10/15\n",
            "2010/2010 [==============================] - 286s 142ms/step - loss: 0.4681 - binary_accuracy: 0.8756 - precision_1: 0.7083 - recall_1: 0.8737 - auc_1: 0.9405 - val_loss: 0.2669 - val_binary_accuracy: 0.8950 - val_precision_1: 0.7462 - val_recall_1: 0.8962 - val_auc_1: 0.9612\n",
            "Epoch 11/15\n",
            "2010/2010 [==============================] - 285s 142ms/step - loss: 0.4631 - binary_accuracy: 0.8766 - precision_1: 0.7103 - recall_1: 0.8747 - auc_1: 0.9421 - val_loss: 0.2738 - val_binary_accuracy: 0.8884 - val_precision_1: 0.7260 - val_recall_1: 0.9093 - val_auc_1: 0.9580\n",
            "Epoch 12/15\n",
            "2010/2010 [==============================] - 286s 142ms/step - loss: 0.4617 - binary_accuracy: 0.8762 - precision_1: 0.7090 - recall_1: 0.8764 - auc_1: 0.9420 - val_loss: 0.2393 - val_binary_accuracy: 0.9035 - val_precision_1: 0.7767 - val_recall_1: 0.8765 - val_auc_1: 0.9599\n",
            "Epoch 13/15\n",
            "2010/2010 [==============================] - 285s 142ms/step - loss: 0.4590 - binary_accuracy: 0.8771 - precision_1: 0.7091 - recall_1: 0.8814 - auc_1: 0.9429 - val_loss: 0.2954 - val_binary_accuracy: 0.8819 - val_precision_1: 0.7067 - val_recall_1: 0.9230 - val_auc_1: 0.9579\n",
            "Epoch 14/15\n",
            "2010/2010 [==============================] - 284s 141ms/step - loss: 0.4589 - binary_accuracy: 0.8794 - precision_1: 0.7126 - recall_1: 0.8863 - auc_1: 0.9426 - val_loss: 0.2761 - val_binary_accuracy: 0.8927 - val_precision_1: 0.7322 - val_recall_1: 0.9187 - val_auc_1: 0.9634\n",
            "Epoch 15/15\n",
            "2010/2010 [==============================] - 285s 142ms/step - loss: 0.4546 - binary_accuracy: 0.8808 - precision_1: 0.7189 - recall_1: 0.8778 - auc_1: 0.9440 - val_loss: 0.3109 - val_binary_accuracy: 0.8724 - val_precision_1: 0.6819 - val_recall_1: 0.9434 - val_auc_1: 0.9634\n"
          ]
        }
      ],
      "source": [
        "model2 = keras.models.Sequential([\n",
        "    keras.layers.InputLayer(input_shape=[config['IMG_SIZE'], config['IMG_SIZE'], 3]),\n",
        "    keras.layers.RandomRotation(0.2), #Fazendo data augmentation ja na propria criacao do modelo  (Rotação Randomico)\n",
        "    keras.layers.RandomZoom(0.15), #Fazendo data augmentation ja na propria criacao do modelo  (Zoom Randomico)\n",
        "    keras.layers.RandomFlip(\"horizontal\"), ##Fazendo data augmentation ja na propria criacao do modelo  (Flip Randomica)\n",
        "    keras.applications.EfficientNetV2S(weights='imagenet',include_top=False), \n",
        "    keras.layers.GlobalAveragePooling2D(),\n",
        "    keras.layers.Dropout(0.3),\n",
        "    keras.layers.Dense(1, activation='sigmoid')\n",
        "])\n",
        "\n",
        "model2.summary()\n",
        "\n",
        "callbacks = [\n",
        "    tf.keras.callbacks.EarlyStopping(patience=5),\n",
        "    tf.keras.callbacks.ModelCheckpoint(filepath='breast_cancer_effnetv2s.h5', save_best_only=True),\n",
        "]\n",
        "\n",
        "model2.compile(loss=\"binary_crossentropy\",\n",
        "              optimizer='adam',\n",
        "              metrics=[\n",
        "                  keras.metrics.BinaryAccuracy(),\n",
        "                  keras.metrics.Precision(),\n",
        "                  keras.metrics.Recall(),\n",
        "                  keras.metrics.AUC()\n",
        "              ])\n",
        "\n",
        "history2 = model2.fit(train_set_small,\n",
        "                     validation_data = valid_set_small,\n",
        "                     callbacks = callbacks,\n",
        "                     epochs = 15,\n",
        "                     class_weight = class_weights)\n"
      ],
      "id": "Q6YFlIn6bpZS"
    },
    {
      "cell_type": "code",
      "execution_count": null,
      "metadata": {
        "colab": {
          "base_uri": "https://localhost:8080/",
          "height": 294
        },
        "id": "f2tk6m2X2CaJ",
        "outputId": "325fd045-6f68-43c4-fb16-06403ebddcf2"
      },
      "outputs": [
        {
          "data": {
            "image/png": "[encoded data removed]",
            "text/plain": [
              "<Figure size 1152x288 with 2 Axes>"
            ]
          },
          "metadata": {},
          "output_type": "display_data"
        }
      ],
      "source": [
        "acc, val_acc = history2.history['binary_accuracy'], history2.history['val_binary_accuracy']\n",
        "loss, val_loss = history2.history['loss'], history2.history['val_loss']\n",
        "fig, ax = plt.subplots(1, 2, figsize=(16, 4))\n",
        "fig.suptitle('Classificação IDC', fontsize=18)\n",
        "\n",
        "ax[0].plot(acc, label='Accuracy')\n",
        "ax[0].plot(val_acc, label='Validation Accuracy')\n",
        "ax[0].grid(axis='y', linestyle='--')\n",
        "\n",
        "ax[1].plot(loss, label='Loss')\n",
        "ax[1].plot(val_loss, label='Validation Loss')\n",
        "ax[1].grid(axis='y', linestyle='--')\n",
        "\n",
        "ax[0].legend()\n",
        "ax[1].legend()\n",
        "plt.show()"
      ],
      "id": "f2tk6m2X2CaJ"
    },
    {
      "cell_type": "code",
      "execution_count": null,
      "metadata": {
        "colab": {
          "base_uri": "https://localhost:8080/",
          "height": 421
        },
        "id": "IqIYi3Pl1_0h",
        "outputId": "4d8d3bdd-1499-4bd3-ac80-47f932cb34ca"
      },
      "outputs": [
        {
          "name": "stdout",
          "output_type": "stream",
          "text": []
        },
        {
          "data": {
            "image/png": "[encoded data removed]",
            "text/plain": [
              "<Figure size 432x288 with 2 Axes>"
            ]
          },
          "metadata": {},
          "output_type": "display_data"
        },
        {
          "name": "stdout",
          "output_type": "stream",
          "text": [
            "              precision    recall  f1-score   support\n",
            "\n",
            "         0.0       0.96      0.91      0.94      3993\n",
            "         1.0       0.78      0.88      0.83      1367\n",
            "\n",
            "    accuracy                           0.91      5360\n",
            "   macro avg       0.87      0.90      0.88      5360\n",
            "weighted avg       0.91      0.91      0.91      5360\n",
            "\n"
          ]
        }
      ],
      "source": [
        "model2 = keras.models.load_model('breast_cancer_effnetv2s.h5')\n",
        "\n",
        "y_pred = np.array([])\n",
        "y_true_small = np.array([])\n",
        "count = 0\n",
        "\n",
        "for x, y in test_set_small:\n",
        "    print(f'Evaluating batch {count}/{len(test_set_small)}', end='\\r')\n",
        "    count += 1\n",
        "    y_pred = np.concatenate([y_pred, model2(x).numpy().flatten()])\n",
        "    y_true_small = np.concatenate([y_true_small, y.numpy()])\n",
        "    \n",
        "sns.heatmap(confusion_matrix(y_true_small, np.round(y_pred)), annot=True, fmt='g')\n",
        "plt.show()\n",
        "\n",
        "print(sklearn.metrics.classification_report(y_true_small, np.round(y_pred)))"
      ],
      "id": "IqIYi3Pl1_0h"
    },
    {
      "cell_type": "code",
      "execution_count": null,
      "metadata": {
        "id": "tNjQ9FE0Ma6Z"
      },
      "outputs": [],
      "source": [
        "#Modelo 3 -  Resnet "
      ],
      "id": "tNjQ9FE0Ma6Z"
    },
    {
      "cell_type": "code",
      "execution_count": null,
      "metadata": {
        "colab": {
          "background_save": true,
          "base_uri": "https://localhost:8080/"
        },
        "id": "lk5HOo4tmSp5",
        "outputId": "3e841d65-abe0-48a8-8ee6-556a2e6cc137"
      },
      "outputs": [
        {
          "name": "stdout",
          "output_type": "stream",
          "text": [
            "Downloading data from https://storage.googleapis.com/tensorflow/keras-applications/resnet/resnet101_weights_tf_dim_ordering_tf_kernels_notop.h5\n",
            "171446536/171446536 [==============================] - 9s 0us/step\n",
            "Model: \"sequential_2\"\n",
            "_________________________________________________________________\n",
            " Layer (type)                Output Shape              Param #   \n",
            "=================================================================\n",
            " random_rotation_2 (RandomRo  (None, 200, 200, 3)      0         \n",
            " tation)                                                         \n",
            "                                                                 \n",
            " random_zoom_2 (RandomZoom)  (None, 200, 200, 3)       0         \n",
            "                                                                 \n",
            " random_flip_2 (RandomFlip)  (None, 200, 200, 3)       0         \n",
            "                                                                 \n",
            " resnet101 (Functional)      (None, None, None, 2048)  42658176  \n",
            "                                                                 \n",
            " global_average_pooling2d_1   (None, 2048)             0         \n",
            " (GlobalAveragePooling2D)                                        \n",
            "                                                                 \n",
            " dense_3 (Dense)             (None, 1)                 2049      \n",
            "                                                                 \n",
            "=================================================================\n",
            "Total params: 42,660,225\n",
            "Trainable params: 42,554,881\n",
            "Non-trainable params: 105,344\n",
            "_________________________________________________________________\n",
            "Epoch 1/15\n",
            "2010/2010 [==============================] - 378s 182ms/step - loss: 0.8034 - binary_accuracy: 0.7681 - precision_2: 0.5315 - recall_2: 0.7922 - auc_2: 0.8378 - val_loss: 0.5061 - val_binary_accuracy: 0.7823 - val_precision_2: 0.5465 - val_recall_2: 0.8991 - val_auc_2: 0.9105\n",
            "Epoch 2/15\n",
            "2010/2010 [==============================] - 362s 180ms/step - loss: 0.6963 - binary_accuracy: 0.8008 - precision_2: 0.5798 - recall_2: 0.8069 - auc_2: 0.8712 - val_loss: 0.4781 - val_binary_accuracy: 0.7679 - val_precision_2: 0.8169 - val_recall_2: 0.1262 - val_auc_2: 0.8320\n",
            "Epoch 3/15\n",
            "2010/2010 [==============================] - 362s 180ms/step - loss: 0.6507 - binary_accuracy: 0.8173 - precision_2: 0.6079 - recall_2: 0.8067 - auc_2: 0.8830 - val_loss: 0.4692 - val_binary_accuracy: 0.8295 - val_precision_2: 0.8732 - val_recall_2: 0.3945 - val_auc_2: 0.8644\n",
            "Epoch 4/15\n",
            "2010/2010 [==============================] - 361s 180ms/step - loss: 0.5935 - binary_accuracy: 0.8315 - precision_2: 0.6306 - recall_2: 0.8249 - auc_2: 0.9042 - val_loss: 0.3905 - val_binary_accuracy: 0.8131 - val_precision_2: 0.7820 - val_recall_2: 0.3776 - val_auc_2: 0.8776\n",
            "Epoch 5/15\n",
            "2010/2010 [==============================] - ETA: 0s - loss: 0.5709 - binary_accuracy: 0.8413 - precision_2: 0.6477 - recall_2: 0.8337 - auc_2: 0.9117"
          ]
        }
      ],
      "source": [
        "model3 = keras.models.Sequential([\n",
        "    keras.layers.InputLayer(input_shape=[config['IMG_SIZE'], config['IMG_SIZE'], 3]),\n",
        "    keras.layers.RandomRotation(0.2), #augmentation Random Rotation\n",
        "    keras.layers.RandomZoom(0.15),  #augmentation Random Zoom\n",
        "    keras.layers.RandomFlip(\"horizontal\"), #augmentation Random Flip\n",
        "    keras.applications.ResNet101(weights='imagenet', include_top=False), \n",
        "    keras.layers.GlobalAveragePooling2D(),\n",
        "    keras.layers.Dense(1, activation='sigmoid')\n",
        "])\n",
        "\n",
        "model3.summary()\n",
        "\n",
        "callbacks = [\n",
        "    tf.keras.callbacks.EarlyStopping(patience=5),\n",
        "    tf.keras.callbacks.ModelCheckpoint(filepath='breast_cancer_resnet101.h5',  save_best_only=True)\n",
        "]\n",
        "\n",
        "model3.compile(loss=\"binary_crossentropy\",\n",
        "              optimizer='adam',\n",
        "              metrics=[\n",
        "                  keras.metrics.BinaryAccuracy(),\n",
        "                  keras.metrics.Precision(),\n",
        "                  keras.metrics.Recall(),\n",
        "                  keras.metrics.AUC()\n",
        "              ])\n",
        "\n",
        "history3 = model3.fit(train_set_small,\n",
        "                     validation_data = valid_set_small,\n",
        "                     callbacks = callbacks,\n",
        "                     epochs = 15,\n",
        "                     class_weight = class_weights)\n"
      ],
      "id": "lk5HOo4tmSp5"
    },
    {
      "cell_type": "code",
      "execution_count": null,
      "metadata": {
        "id": "Is9J941v7kgR"
      },
      "outputs": [],
      "source": [
        "model3 = keras.models.load_model('breast_cancer_resnet101.h5')\n",
        "\n",
        "y_pred = np.array([])\n",
        "y_true_small = np.array([])\n",
        "count = 0\n",
        "\n",
        "for x, y in test_set_small:\n",
        "    print(f'Evaluating batch {count}/{len(test_set_small)}', end='\\r')\n",
        "    count += 1\n",
        "    y_pred = np.concatenate([y_pred, model3(x).numpy().flatten()])\n",
        "    y_true_small = np.concatenate([y_true_small, y.numpy()])\n",
        "    \n",
        "sns.heatmap(confusion_matrix(y_true_small, np.round(y_pred)), annot=True, fmt='g')\n",
        "plt.show()\n",
        "\n",
        "print(sklearn.metrics.classification_report(y_true_small, np.round(y_pred)))\n"
      ],
      "id": "Is9J941v7kgR"
    },
    {
      "cell_type": "code",
      "execution_count": null,
      "metadata": {
        "id": "m6hbqtySNo-o"
      },
      "outputs": [],
      "source": [
        "#Modelo 4 - Xception"
      ],
      "id": "m6hbqtySNo-o"
    },
    {
      "cell_type": "code",
      "execution_count": null,
      "metadata": {
        "colab": {
          "background_save": true
        },
        "id": "VWF_-dXs8Ci7",
        "outputId": "e9fa784d-ed88-48c1-b3de-a6231d13fc08"
      },
      "outputs": [
        {
          "name": "stdout",
          "output_type": "stream",
          "text": [
            "Downloading data from https://storage.googleapis.com/tensorflow/keras-applications/xception/xception_weights_tf_dim_ordering_tf_kernels_notop.h5\n",
            "83683744/83683744 [==============================] - 4s 0us/step\n",
            "Model: \"sequential_3\"\n",
            "_________________________________________________________________\n",
            " Layer (type)                Output Shape              Param #   \n",
            "=================================================================\n",
            " random_rotation_3 (RandomRo  (None, 200, 200, 3)      0         \n",
            " tation)                                                         \n",
            "                                                                 \n",
            " random_zoom_3 (RandomZoom)  (None, 200, 200, 3)       0         \n",
            "                                                                 \n",
            " random_flip_3 (RandomFlip)  (None, 200, 200, 3)       0         \n",
            "                                                                 \n",
            " xception (Functional)       (None, None, None, 2048)  20861480  \n",
            "                                                                 \n",
            " global_average_pooling2d_2   (None, 2048)             0         \n",
            " (GlobalAveragePooling2D)                                        \n",
            "                                                                 \n",
            " dense_4 (Dense)             (None, 1)                 2049      \n",
            "                                                                 \n",
            "=================================================================\n",
            "Total params: 20,863,529\n",
            "Trainable params: 20,809,001\n",
            "Non-trainable params: 54,528\n",
            "_________________________________________________________________\n",
            "Epoch 1/15\n",
            "2009/2009 [==============================] - 325s 159ms/step - loss: 0.6860 - binary_accuracy: 0.7992 - precision_3: 0.5755 - recall_3: 0.8046 - auc_3: 0.8710 - val_loss: 0.6524 - val_binary_accuracy: 0.7101 - val_precision_3: 0.4713 - val_recall_3: 0.9741 - val_auc_3: 0.9391\n",
            "Epoch 2/15\n",
            "2009/2009 [==============================] - 317s 158ms/step - loss: 0.5799 - binary_accuracy: 0.8339 - precision_3: 0.6287 - recall_3: 0.8476 - auc_3: 0.9086 - val_loss: 0.2813 - val_binary_accuracy: 0.8854 - val_precision_3: 0.7395 - val_recall_3: 0.8610 - val_auc_3: 0.9466\n",
            "Epoch 3/15\n",
            "2009/2009 [==============================] - 315s 157ms/step - loss: 0.5250 - binary_accuracy: 0.8504 - precision_3: 0.6583 - recall_3: 0.8559 - auc_3: 0.9254 - val_loss: 1.4402 - val_binary_accuracy: 0.4664 - val_precision_3: 0.3261 - val_recall_3: 0.9942 - val_auc_3: 0.9324\n",
            "Epoch 4/15\n",
            "2009/2009 [==============================] - 316s 157ms/step - loss: 0.5107 - binary_accuracy: 0.8619 - precision_3: 0.6812 - recall_3: 0.8602 - auc_3: 0.9299 - val_loss: 0.2661 - val_binary_accuracy: 0.8942 - val_precision_3: 0.8368 - val_recall_3: 0.7349 - val_auc_3: 0.9425\n",
            "Epoch 5/15\n",
            "2009/2009 [==============================] - 315s 157ms/step - loss: 0.4909 - binary_accuracy: 0.8656 - precision_3: 0.6864 - recall_3: 0.8687 - auc_3: 0.9351 - val_loss: 0.5735 - val_binary_accuracy: 0.7623 - val_precision_3: 0.5223 - val_recall_3: 0.9705 - val_auc_3: 0.9460\n",
            "Epoch 6/15\n",
            "2009/2009 [==============================] - 316s 157ms/step - loss: 0.4782 - binary_accuracy: 0.8708 - precision_3: 0.6966 - recall_3: 0.8722 - auc_3: 0.9382 - val_loss: 0.2529 - val_binary_accuracy: 0.9054 - val_precision_3: 0.7898 - val_recall_3: 0.8654 - val_auc_3: 0.9554\n",
            "Epoch 7/15\n",
            "2009/2009 [==============================] - 315s 157ms/step - loss: 0.4637 - binary_accuracy: 0.8715 - precision_3: 0.6974 - recall_3: 0.8744 - auc_3: 0.9419 - val_loss: 0.2771 - val_binary_accuracy: 0.8955 - val_precision_3: 0.8393 - val_recall_3: 0.7378 - val_auc_3: 0.9414\n",
            "Epoch 8/15\n",
            "2009/2009 [==============================] - 316s 157ms/step - loss: 0.4506 - binary_accuracy: 0.8764 - precision_3: 0.7058 - recall_3: 0.8819 - auc_3: 0.9452 - val_loss: 0.2355 - val_binary_accuracy: 0.9035 - val_precision_3: 0.8516 - val_recall_3: 0.7603 - val_auc_3: 0.9552\n",
            "Epoch 9/15\n",
            "2009/2009 [==============================] - 315s 157ms/step - loss: 0.4480 - binary_accuracy: 0.8783 - precision_3: 0.7101 - recall_3: 0.8819 - auc_3: 0.9457 - val_loss: 0.2365 - val_binary_accuracy: 0.8994 - val_precision_3: 0.8087 - val_recall_3: 0.8012 - val_auc_3: 0.9563\n",
            "Epoch 10/15\n",
            "2009/2009 [==============================] - 317s 158ms/step - loss: 0.4444 - binary_accuracy: 0.8795 - precision_3: 0.7119 - recall_3: 0.8844 - auc_3: 0.9464 - val_loss: 0.2316 - val_binary_accuracy: 0.9080 - val_precision_3: 0.8322 - val_recall_3: 0.8076 - val_auc_3: 0.9564\n",
            "Epoch 11/15\n",
            "2009/2009 [==============================] - 317s 158ms/step - loss: 0.4266 - binary_accuracy: 0.8841 - precision_3: 0.7202 - recall_3: 0.8905 - auc_3: 0.9510 - val_loss: 0.5789 - val_binary_accuracy: 0.7491 - val_precision_3: 0.5080 - val_recall_3: 0.9813 - val_auc_3: 0.9616\n",
            "Epoch 12/15\n",
            "2009/2009 [==============================] - 320s 159ms/step - loss: 0.4257 - binary_accuracy: 0.8860 - precision_3: 0.7231 - recall_3: 0.8946 - auc_3: 0.9507 - val_loss: 0.2304 - val_binary_accuracy: 0.9045 - val_precision_3: 0.7831 - val_recall_3: 0.8733 - val_auc_3: 0.9637\n",
            "Epoch 13/15\n",
            "2009/2009 [==============================] - 319s 159ms/step - loss: 0.4232 - binary_accuracy: 0.8861 - precision_3: 0.7252 - recall_3: 0.8898 - auc_3: 0.9513 - val_loss: 0.2687 - val_binary_accuracy: 0.8892 - val_precision_3: 0.7319 - val_recall_3: 0.9027 - val_auc_3: 0.9578\n",
            "Epoch 14/15\n",
            "2009/2009 [==============================] - 319s 159ms/step - loss: 0.4178 - binary_accuracy: 0.8856 - precision_3: 0.7229 - recall_3: 0.8924 - auc_3: 0.9528 - val_loss: 0.3132 - val_binary_accuracy: 0.8888 - val_precision_3: 0.7173 - val_recall_3: 0.9424 - val_auc_3: 0.9663\n",
            "Epoch 15/15\n",
            "2009/2009 [==============================] - 319s 159ms/step - loss: 0.4130 - binary_accuracy: 0.8877 - precision_3: 0.7270 - recall_3: 0.8949 - auc_3: 0.9538 - val_loss: 0.2914 - val_binary_accuracy: 0.8800 - val_precision_3: 0.6967 - val_recall_3: 0.9510 - val_auc_3: 0.9644\n"
          ]
        }
      ],
      "source": [
        "model4 = keras.models.Sequential([\n",
        "    keras.layers.InputLayer(input_shape=[config['IMG_SIZE'], config['IMG_SIZE'], 3]),\n",
        "    keras.layers.RandomRotation(0.2),\n",
        "    keras.layers.RandomZoom(0.15),\n",
        "    keras.layers.RandomFlip(\"horizontal_and_vertical\"),\n",
        "    keras.applications.Xception(weights='imagenet',include_top=False), \n",
        "    keras.layers.GlobalAveragePooling2D(),\n",
        "    keras.layers.Dense(1, activation='sigmoid')\n",
        "])\n",
        "\n",
        "model4.summary()\n",
        "\n",
        "callbacks = [\n",
        "    tf.keras.callbacks.EarlyStopping(patience=5),\n",
        "    tf.keras.callbacks.ModelCheckpoint(filepath='breast_cancer_xception.h5',  save_best_only=True)\n",
        "]\n",
        "\n",
        "model4.compile(loss=\"binary_crossentropy\",\n",
        "              optimizer='adam',\n",
        "              metrics=[\n",
        "                  keras.metrics.BinaryAccuracy(),\n",
        "                  keras.metrics.Precision(),\n",
        "                  keras.metrics.Recall(),\n",
        "                  keras.metrics.AUC()\n",
        "              ])\n",
        "\n",
        "history4 = model4.fit(train_set_small,\n",
        "                     validation_data = valid_set_small,\n",
        "                     callbacks = callbacks,\n",
        "                     epochs = 15,\n",
        "                     class_weight = class_weights)\n"
      ],
      "id": "VWF_-dXs8Ci7"
    },
    {
      "cell_type": "code",
      "execution_count": null,
      "metadata": {
        "colab": {
          "background_save": true
        },
        "id": "778tgBVuQOm_",
        "outputId": "147a8e4c-d2e6-42b4-b547-b9bbe79f5371"
      },
      "outputs": [
        {
          "name": "stdout",
          "output_type": "stream",
          "text": [
            ""
          ]
        },
        {
          "data": {
            "image/png": "[encoded data removed]",
            "text/plain": [
              "<Figure size 432x288 with 2 Axes>"
            ]
          },
          "metadata": {},
          "output_type": "display_data"
        },
        {
          "name": "stdout",
          "output_type": "stream",
          "text": [
            "              precision    recall  f1-score   support\n",
            "\n",
            "         0.0       0.96      0.92      0.94      4023\n",
            "         1.0       0.78      0.89      0.83      1337\n",
            "\n",
            "    accuracy                           0.91      5360\n",
            "   macro avg       0.87      0.91      0.89      5360\n",
            "weighted avg       0.92      0.91      0.91      5360\n",
            "\n"
          ]
        }
      ],
      "source": [
        "model4 = keras.models.load_model('breast_cancer_xception.h5')\n",
        "\n",
        "y_pred = np.array([])\n",
        "y_true_small = np.array([])\n",
        "count = 0\n",
        "\n",
        "for x, y in test_set_small:\n",
        "    print(f'Evaluating batch {count}/{len(test_set_small)}', end='\\r')\n",
        "    count += 1\n",
        "    y_pred = np.concatenate([y_pred, model4(x).numpy().flatten()])\n",
        "    y_true_small = np.concatenate([y_true_small, y.numpy()])\n",
        "    \n",
        "sns.heatmap(confusion_matrix(y_true_small, np.round(y_pred)), annot=True, fmt='g')\n",
        "plt.show()\n",
        "\n",
        "print(sklearn.metrics.classification_report(y_true_small, np.round(y_pred)))\n"
      ],
      "id": "778tgBVuQOm_"
    },
    {
      "cell_type": "code",
      "execution_count": null,
      "metadata": {
        "colab": {
          "background_save": true
        },
        "id": "4AU5Ru_ANtyR"
      },
      "outputs": [],
      "source": [
        "#Vamos avaliar os modelos "
      ],
      "id": "4AU5Ru_ANtyR"
    },
    {
      "cell_type": "code",
      "execution_count": null,
      "metadata": {
        "colab": {
          "background_save": true
        },
        "id": "9wj6reF0QnIO",
        "outputId": "793a1d1d-484a-400f-bab7-6d30e92712fc"
      },
      "outputs": [
        {
          "name": "stdout",
          "output_type": "stream",
          "text": [
            "670/670 [==============================] - 9s 13ms/step - loss: 0.4069 - binary_accuracy: 0.8340 - precision: 0.7932 - recall: 0.4529 - auc: 0.9008\n",
            "670/670 [==============================] - 30s 41ms/step - loss: 0.2382 - binary_accuracy: 0.9088 - precision_1: 0.7916 - recall_1: 0.8619 - auc_1: 0.9592\n",
            "670/670 [==============================] - 39s 55ms/step - loss: 0.2643 - binary_accuracy: 0.8938 - precision_2: 0.8513 - recall_2: 0.6968 - auc_2: 0.9378\n",
            "670/670 [==============================] - 23s 32ms/step - loss: 0.2317 - binary_accuracy: 0.9110 - precision_3: 0.7822 - recall_3: 0.8925 - auc_3: 0.9624\n",
            "              Recall  Precision       AUC\n",
            "Custom CNN  0.452915   0.793194  0.900777\n",
            "EffNetV2S   0.861940   0.791638  0.959242\n",
            "ResNet101   0.696789   0.851277  0.937808\n",
            "Xception    0.892537   0.782211  0.962446\n"
          ]
        },
        {
          "data": {
            "text/plain": [
              "<matplotlib.axes._subplots.AxesSubplot at 0x7fbe7c0da0d0>"
            ]
          },
          "execution_count": 43,
          "metadata": {},
          "output_type": "execute_result"
        },
        {
          "data": {
            "image/png": "[encoded data removed]",
            "text/plain": [
              "<Figure size 864x576 with 1 Axes>"
            ]
          },
          "metadata": {},
          "output_type": "display_data"
        }
      ],
      "source": [
        "import seaborn as sns\n",
        "\n",
        "# Evaluate the models to get performance stats\n",
        "preds_custom = model.evaluate(test_set_small)\n",
        "preds_effnet = model2.evaluate(test_set_small)\n",
        "preds_resnet = model3.evaluate(test_set_small)\n",
        "preds_xception = model4.evaluate(test_set_small)\n",
        "\n",
        "# Extract into relevant model-related stats\n",
        "cnn_recall, cnn_precision, cnn_auc, cnn_params = preds_custom[3], preds_custom[2], preds_custom[4], model.count_params()\n",
        "effnet_recall, effnet_precision, effnet_auc, effnet_params = preds_effnet[3], preds_effnet[2], preds_effnet[4], model2.count_params()\n",
        "resnet_recall, resnet_precision, resnet_auc, resnet_params = preds_resnet[3], preds_resnet[2], preds_resnet[4], model3.count_params()\n",
        "xception_recall, xception_precision, xception_auc, xception_params = preds_xception[3], preds_xception[2], preds_xception[4], model4.count_params()\n",
        "\n",
        "# Create dict to hold values\n",
        "data = {\n",
        "    'Custom CNN' : [cnn_recall, cnn_precision, cnn_auc],\n",
        "    'EffNetV2S' : [effnet_recall, effnet_precision, effnet_auc],\n",
        "    'ResNet101' : [resnet_recall, resnet_precision, resnet_auc],\n",
        "    'Xception' : [xception_recall, xception_precision, xception_auc]\n",
        "}\n",
        "\n",
        "# Dict to DF\n",
        "df = pd.DataFrame(data, index = [\"Recall\", \"Precision\", \"AUC\"]).T\n",
        "\n",
        "print(df)\n",
        "\n",
        "fig, ax = plt.subplots(figsize=(12, 8))\n",
        "\n",
        "df_bar = df.reset_index().melt(id_vars=[\"index\"])\n",
        "sns.barplot(x=\"variable\", y=\"value\", hue=\"index\", data=df_bar, ax=ax)\n"
      ],
      "id": "9wj6reF0QnIO"
    },
    {
      "cell_type": "markdown",
      "metadata": {
        "id": "3i2TwzA7iOTP"
      },
      "source": [
        "Escolhemos para segur adiante o Effnet, devido a ter o melhor recall e AUC equivalente ao Xception, alem exigir menor capacidade de computacao.\n",
        "\n",
        "Vamos agora obter os melhores hiper paramentros para a rede, utilizando o Keras Tuner. \n",
        " KerasTuner é uma estrutura de otimização de hiperparâmetros escalável e fácil de usar que resolve os pontos problemáticos da pesquisa de hiperparâmetros. Configura facilmente seu espaço de pesquisa com uma sintaxe definida por execução e aproveita um dos algoritmos de pesquisa disponíveis para encontrar os melhores valores de hiperparâmetros para seus modelos. O KerasTuner vem com algoritmos de otimização bayesiana, hyperband e pesquisa aleatória integrados e também foi projetado para ser fácil para os pesquisadores estenderem a fim de experimentar novos algoritmos de pesquisa."
      ],
      "id": "3i2TwzA7iOTP"
    },
    {
      "cell_type": "code",
      "execution_count": null,
      "metadata": {
        "colab": {
          "background_save": true
        },
        "id": "QEISlwTxNy1Y"
      },
      "outputs": [],
      "source": [
        "\n"
      ],
      "id": "QEISlwTxNy1Y"
    },
    {
      "cell_type": "code",
      "execution_count": null,
      "metadata": {
        "colab": {
          "background_save": true
        },
        "id": "v_IaojzSPtaR"
      },
      "outputs": [],
      "source": [],
      "id": "v_IaojzSPtaR"
    },
    {
      "cell_type": "code",
      "execution_count": null,
      "metadata": {
        "colab": {
          "background_save": true
        },
        "id": "HdIOQ27VPf0S"
      },
      "outputs": [],
      "source": [],
      "id": "HdIOQ27VPf0S"
    },
    {
      "cell_type": "code",
      "execution_count": 29,
      "metadata": {
        "id": "A0qm2yEmDEnF"
      },
      "outputs": [],
      "source": [
        "import keras_tuner as kt\n",
        "#Critando a rede Effnet\n",
        "\n",
        "def build_effnet(hp):\n",
        "    model = keras.Sequential()\n",
        "    keras.layers.InputLayer(input_shape=[config['IMG_SIZE'], config['IMG_SIZE'], 3]),\n",
        "    keras.layers.RandomRotation(hp.Choice('random_rot', [0.10, 0.15, 0.20, 0.3])),\n",
        "    keras.layers.RandomZoom(hp.Choice('random_zoom', [0.10, 0.15, 0.20, 0.3])),\n",
        "    keras.layers.RandomFlip(hp.Choice('Bflip', ['horizontal', 'vertical', 'horizontal_and_vertical'])),\n",
        "    model.add(keras.applications.EfficientNetV2S(weights='imagenet', include_top=False))\n",
        "    model.add(keras.layers.GlobalAveragePooling2D())\n",
        "    model.add(keras.layers.Dropout(hp.Choice('dropout', [0.2, 0.3, 0.4])))\n",
        "    model.add(keras.layers.Dense(1, activation='sigmoid'))\n",
        "    \n",
        "    model.compile(loss='binary_crossentropy',\n",
        "                 optimizer='adam',\n",
        "                 metrics=[\n",
        "                  keras.metrics.BinaryAccuracy(),\n",
        "                  keras.metrics.Precision(),\n",
        "                  keras.metrics.Recall(),\n",
        "                  keras.metrics.AUC()\n",
        "              ])\n",
        "\n",
        "    return model"
      ],
      "id": "A0qm2yEmDEnF"
    },
    {
      "cell_type": "code",
      "execution_count": 30,
      "metadata": {
        "colab": {
          "base_uri": "https://localhost:8080/"
        },
        "id": "l7fcsVuCFf1p",
        "outputId": "5c9873c9-5524-44ee-d794-6631bf1055cc"
      },
      "outputs": [
        {
          "output_type": "stream",
          "name": "stdout",
          "text": [
            "Downloading data from https://storage.googleapis.com/tensorflow/keras-applications/efficientnet_v2/efficientnetv2-s_notop.h5\n",
            "82420632/82420632 [==============================] - 5s 0us/step\n"
          ]
        }
      ],
      "source": [
        "tuner = kt.Hyperband(\n",
        "    build_effnet,\n",
        "    objective='val_loss',\n",
        "    max_epochs=5)\n",
        "\n"
      ],
      "id": "l7fcsVuCFf1p"
    },
    {
      "cell_type": "code",
      "execution_count": 31,
      "metadata": {
        "colab": {
          "base_uri": "https://localhost:8080/"
        },
        "id": "ojwLIMbTFx9G",
        "outputId": "3bdcf74f-0ac8-45f0-c4e9-4468951afde1"
      },
      "outputs": [
        {
          "output_type": "stream",
          "name": "stdout",
          "text": [
            "Search space summary\n",
            "Default search space size: 4\n",
            "random_rot (Choice)\n",
            "{'default': 0.1, 'conditions': [], 'values': [0.1, 0.15, 0.2, 0.3], 'ordered': True}\n",
            "random_zoom (Choice)\n",
            "{'default': 0.1, 'conditions': [], 'values': [0.1, 0.15, 0.2, 0.3], 'ordered': True}\n",
            "Bflip (Choice)\n",
            "{'default': 'horizontal', 'conditions': [], 'values': ['horizontal', 'vertical', 'horizontal_and_vertical'], 'ordered': False}\n",
            "dropout (Choice)\n",
            "{'default': 0.2, 'conditions': [], 'values': [0.2, 0.3, 0.4], 'ordered': True}\n"
          ]
        }
      ],
      "source": [
        "\n",
        "tuner.search_space_summary()"
      ],
      "id": "ojwLIMbTFx9G"
    },
    {
      "cell_type": "code",
      "execution_count": null,
      "metadata": {
        "colab": {
          "background_save": true
        },
        "id": "3dN2QcCsGWhQ"
      },
      "outputs": [],
      "source": [
        "config['BATCH_SIZE'] = 2\n",
        "train_set_small = create_dataset(train_paths_small, train_labels_small)\n",
        "test_set_small = create_dataset(test_paths_small, test_labels_small)\n",
        "valid_set_small = create_dataset(valid_paths_small, valid_labels_small)\n"
      ],
      "id": "3dN2QcCsGWhQ"
    },
    {
      "cell_type": "code",
      "execution_count": 32,
      "metadata": {
        "colab": {
          "base_uri": "https://localhost:8080/"
        },
        "id": "Noj-1X2SGega",
        "outputId": "b1e78d2f-76b0-4efc-f364-30db6d3c078b"
      },
      "outputs": [
        {
          "output_type": "stream",
          "name": "stdout",
          "text": [
            "Trial 10 Complete [00h 24m 41s]\n",
            "val_loss: 0.2402213215827942\n",
            "\n",
            "Best val_loss So Far: 0.2299761027097702\n",
            "Total elapsed time: 02h 39m 50s\n"
          ]
        }
      ],
      "source": [
        "tuner.search(train_set_small, \n",
        "             epochs=5, \n",
        "             validation_data=valid_set_small)\n"
      ],
      "id": "Noj-1X2SGega"
    },
    {
      "cell_type": "code",
      "execution_count": 33,
      "metadata": {
        "id": "ysbbTZpjE4x5"
      },
      "outputs": [],
      "source": [
        "tuned_model = tuner.get_best_models()[0] #melhor modelo obtido oi"
      ],
      "id": "ysbbTZpjE4x5"
    },
    {
      "cell_type": "code",
      "execution_count": 34,
      "metadata": {
        "id": "TLHo-m9jFELT"
      },
      "outputs": [],
      "source": [
        "tuned_model.save('breast_cancer_tuned_baseline.h5') #Salvando o modelo tunado \n"
      ],
      "id": "TLHo-m9jFELT"
    },
    {
      "cell_type": "code",
      "execution_count": 44,
      "metadata": {
        "id": "Rm_2_cm9Fi4K"
      },
      "outputs": [],
      "source": [
        "import tensorflow as tf\n",
        "import keras.backend as K\n",
        "\n",
        "def f1(y_true, y_pred):   #Funçao F1 modificada de acordo com xx\n",
        "    y_pred = K.cast(K.round(y_pred), 'float32')\n",
        "    tp = K.sum(K.cast(y_true*y_pred, 'float32'), axis=0)\n",
        "    tn = K.sum(K.cast((1-y_true)*(1-y_pred), 'float32'), axis=0)\n",
        "    fp = K.sum(K.cast((1-y_true)*y_pred, 'float32'), axis=0)\n",
        "    fn = K.sum(K.cast(y_true*(1-y_pred), 'float32'), axis=0)\n",
        "\n",
        "    p = tp / (tp + fp + K.epsilon())\n",
        "    r = tp / (tp + fn + K.epsilon())\n",
        "\n",
        "    f1 = 2*p*r / (p+r+K.epsilon())\n",
        "    f1 = tf.where(tf.math.is_nan(f1), tf.zeros_like(f1), f1)\n",
        "    return K.mean(f1)\n",
        "\n",
        "def f1_loss(y_true, y_pred): #Funçao F1_loss modificada de acordo com xx\n",
        "    tp = K.sum(K.cast(y_true*y_pred, 'float32'), axis=0)\n",
        "    tn = K.sum(K.cast((1-y_true)*(1-y_pred), 'float32'), axis=0)\n",
        "    fp = K.sum(K.cast((1-y_true)*y_pred, 'float32'), axis=0)\n",
        "    fn = K.sum(K.cast(y_true*(1-y_pred), 'float32'), axis=0)\n",
        "\n",
        "    p = tp / (tp + fp + K.epsilon())\n",
        "    r = tp / (tp + fn + K.epsilon())\n",
        "\n",
        "    f1 = 2*p*r / (p+r+K.epsilon())\n",
        "    f1 = tf.where(tf.math.is_nan(f1), tf.zeros_like(f1), f1)\n",
        "    return 1 - K.mean(f1)\n"
      ],
      "id": "Rm_2_cm9Fi4K"
    },
    {
      "cell_type": "code",
      "execution_count": 45,
      "metadata": {
        "id": "qkhEBBl1GrAC"
      },
      "outputs": [],
      "source": [
        "config['BATCH_SIZE'] = 8"
      ],
      "id": "qkhEBBl1GrAC"
    },
    {
      "cell_type": "code",
      "execution_count": null,
      "metadata": {
        "id": "9ZgHNgidHpfd"
      },
      "outputs": [],
      "source": [
        "\n"
      ],
      "id": "9ZgHNgidHpfd"
    },
    {
      "cell_type": "code",
      "execution_count": 46,
      "metadata": {
        "colab": {
          "base_uri": "https://localhost:8080/"
        },
        "id": "Cae1k39GHw02",
        "outputId": "9c9c9dd1-14ca-4ad1-8958-1bb300ad0e44"
      },
      "outputs": [
        {
          "output_type": "stream",
          "name": "stderr",
          "text": [
            "WARNING:tensorflow:Error in loading the saved optimizer state. As a result, your model is starting with a freshly initialized optimizer.\n"
          ]
        },
        {
          "output_type": "stream",
          "name": "stdout",
          "text": [
            "Epoch 1/15\n",
            "2014/2014 [==============================] - 313s 147ms/step - loss: 0.4863 - f1: 0.6487 - binary_accuracy: 0.8211 - precision_2: 0.6265 - recall_2: 0.7684 - auc_2: 0.8305 - val_loss: 0.3789 - val_f1: 0.6216 - val_binary_accuracy: 0.8039 - val_precision_2: 0.5784 - val_recall_2: 0.8710 - val_auc_2: 0.8592 - lr: 0.0010\n",
            "Epoch 2/15\n",
            "2014/2014 [==============================] - 291s 145ms/step - loss: 0.4737 - f1: 0.6571 - binary_accuracy: 0.8272 - precision_2: 0.6372 - recall_2: 0.7751 - auc_2: 0.8327 - val_loss: 0.3452 - val_f1: 0.6553 - val_binary_accuracy: 0.8411 - val_precision_2: 0.6432 - val_recall_2: 0.8558 - val_auc_2: 0.8640 - lr: 0.0010\n",
            "Epoch 3/15\n",
            "2014/2014 [==============================] - 290s 144ms/step - loss: 0.5035 - f1: 0.6364 - binary_accuracy: 0.8091 - precision_2: 0.6050 - recall_2: 0.7617 - auc_2: 0.8087 - val_loss: 0.3537 - val_f1: 0.6468 - val_binary_accuracy: 0.8464 - val_precision_2: 0.6661 - val_recall_2: 0.8042 - val_auc_2: 0.8509 - lr: 0.0010\n",
            "Epoch 4/15\n",
            "2014/2014 [==============================] - 293s 145ms/step - loss: 0.4976 - f1: 0.6405 - binary_accuracy: 0.8087 - precision_2: 0.6011 - recall_2: 0.7809 - auc_2: 0.8155 - val_loss: 0.4466 - val_f1: 0.5525 - val_binary_accuracy: 0.8253 - val_precision_2: 0.6649 - val_recall_2: 0.6432 - val_auc_2: 0.7794 - lr: 0.0010\n",
            "Epoch 5/15\n",
            "2014/2014 [==============================] - 290s 144ms/step - loss: 0.5182 - f1: 0.6266 - binary_accuracy: 0.8034 - precision_2: 0.5959 - recall_2: 0.7510 - auc_2: 0.8010 - val_loss: 0.3876 - val_f1: 0.6121 - val_binary_accuracy: 0.8426 - val_precision_2: 0.6785 - val_recall_2: 0.7355 - val_auc_2: 0.8267 - lr: 0.0010\n",
            "Epoch 6/15\n",
            "2014/2014 [==============================] - 291s 145ms/step - loss: 0.4889 - f1: 0.6448 - binary_accuracy: 0.8105 - precision_2: 0.6032 - recall_2: 0.7873 - auc_2: 0.8235 - val_loss: 0.3420 - val_f1: 0.6571 - val_binary_accuracy: 0.8575 - val_precision_2: 0.7055 - val_recall_2: 0.7638 - val_auc_2: 0.8393 - lr: 0.0010\n",
            "Epoch 7/15\n",
            "2014/2014 [==============================] - 291s 144ms/step - loss: 0.4773 - f1: 0.6546 - binary_accuracy: 0.8221 - precision_2: 0.6264 - recall_2: 0.7779 - auc_2: 0.8228 - val_loss: 0.3422 - val_f1: 0.6569 - val_binary_accuracy: 0.8564 - val_precision_2: 0.6992 - val_recall_2: 0.7732 - val_auc_2: 0.8415 - lr: 0.0010\n",
            "Epoch 8/15\n",
            "2014/2014 [==============================] - 291s 144ms/step - loss: 0.4800 - f1: 0.6479 - binary_accuracy: 0.8036 - precision_2: 0.5850 - recall_2: 0.8348 - auc_2: 0.8273 - val_loss: 0.3718 - val_f1: 0.6290 - val_binary_accuracy: 0.7915 - val_precision_2: 0.5580 - val_recall_2: 0.9022 - val_auc_2: 0.8384 - lr: 0.0010\n",
            "Epoch 9/15\n",
            "2014/2014 [==============================] - 291s 144ms/step - loss: 0.4791 - f1: 0.6515 - binary_accuracy: 0.8155 - precision_2: 0.6101 - recall_2: 0.8000 - auc_2: 0.8224 - val_loss: 0.3745 - val_f1: 0.6266 - val_binary_accuracy: 0.8538 - val_precision_2: 0.7103 - val_recall_2: 0.7268 - val_auc_2: 0.8213 - lr: 0.0010\n",
            "Epoch 10/15\n",
            "2014/2014 [==============================] - 291s 145ms/step - loss: 0.4559 - f1: 0.6656 - binary_accuracy: 0.8220 - precision_2: 0.6171 - recall_2: 0.8260 - auc_2: 0.8354 - val_loss: 0.3587 - val_f1: 0.6425 - val_binary_accuracy: 0.8629 - val_precision_2: 0.7308 - val_recall_2: 0.7377 - val_auc_2: 0.8314 - lr: 0.0010\n",
            "Epoch 11/15\n",
            "2014/2014 [==============================] - 291s 144ms/step - loss: 0.4659 - f1: 0.6623 - binary_accuracy: 0.8253 - precision_2: 0.6303 - recall_2: 0.7901 - auc_2: 0.8221 - val_loss: 0.3752 - val_f1: 0.6250 - val_binary_accuracy: 0.8447 - val_precision_2: 0.6771 - val_recall_2: 0.7551 - val_auc_2: 0.8263 - lr: 0.0010\n",
            "Epoch 12/15\n",
            "2014/2014 [==============================] - 290s 144ms/step - loss: 0.4705 - f1: 0.6542 - binary_accuracy: 0.8240 - precision_2: 0.6256 - recall_2: 0.8010 - auc_2: 0.8259 - val_loss: 0.3328 - val_f1: 0.6671 - val_binary_accuracy: 0.8449 - val_precision_2: 0.6512 - val_recall_2: 0.8522 - val_auc_2: 0.8557 - lr: 1.0000e-04\n",
            "Epoch 13/15\n",
            "2014/2014 [==============================] - 291s 144ms/step - loss: 0.4368 - f1: 0.6782 - binary_accuracy: 0.8400 - precision_2: 0.6562 - recall_2: 0.8047 - auc_2: 0.8381 - val_loss: 0.3211 - val_f1: 0.6790 - val_binary_accuracy: 0.8609 - val_precision_2: 0.6865 - val_recall_2: 0.8428 - val_auc_2: 0.8630 - lr: 1.0000e-04\n",
            "Epoch 14/15\n",
            "2014/2014 [==============================] - 291s 144ms/step - loss: 0.4228 - f1: 0.6898 - binary_accuracy: 0.8495 - precision_2: 0.6775 - recall_2: 0.8012 - auc_2: 0.8430 - val_loss: 0.3392 - val_f1: 0.6605 - val_binary_accuracy: 0.8663 - val_precision_2: 0.7167 - val_recall_2: 0.7920 - val_auc_2: 0.8493 - lr: 1.0000e-04\n",
            "Epoch 15/15\n",
            "2014/2014 [==============================] - 291s 144ms/step - loss: 0.4217 - f1: 0.6918 - binary_accuracy: 0.8523 - precision_2: 0.6858 - recall_2: 0.7946 - auc_2: 0.8439 - val_loss: 0.3340 - val_f1: 0.6632 - val_binary_accuracy: 0.8677 - val_precision_2: 0.7229 - val_recall_2: 0.7862 - val_auc_2: 0.8526 - lr: 1.0000e-04\n"
          ]
        }
      ],
      "source": [
        "#ACERTAR AQUI\n",
        "model_f1_loss = keras.models.load_model('breast_cancer_tuned_baseline.h5')\n",
        "\n",
        "callbacks = [\n",
        "    tf.keras.callbacks.EarlyStopping(patience=6),\n",
        "    tf.keras.callbacks.ModelCheckpoint(filepath='breast_cancer_effnet_f1_loss.h5',  save_best_only=True, monitor=\"val_f1\"),\n",
        "    tf.keras.callbacks.ReduceLROnPlateau(patience=5)\n",
        "]\n",
        "\n",
        "model_f1_loss.compile(loss=f1_loss,\n",
        "              optimizer='adam',\n",
        "              metrics=[\n",
        "                  f1,\n",
        "                  keras.metrics.BinaryAccuracy(),\n",
        "                  keras.metrics.Precision(),\n",
        "                  keras.metrics.Recall(),\n",
        "                  keras.metrics.AUC()\n",
        "              ])\n",
        "\n",
        "model_f1_loss_history = model_f1_loss.fit(train_set_small,\n",
        "                     validation_data=valid_set_small,\n",
        "                     callbacks=callbacks,\n",
        "                     epochs=15,\n",
        "                    class_weight=class_weights)\n"
      ],
      "id": "Cae1k39GHw02"
    },
    {
      "cell_type": "code",
      "source": [
        "config['BATCH_SIZE'] = 8\n",
        "model_f1_loss = keras.models.load_model('breast_cancer_effnet_f1_loss.h5', custom_objects={'f1_loss':f1_loss, 'f1':f1})\n",
        "\n",
        "y_pred = np.array([])\n",
        "y_true_small = np.array([])\n",
        "count = 0\n",
        "\n",
        "for x, y in test_set_small:\n",
        "    print(f'Evaluating batch {count}/{len(test_set_small)}', end='\\r')\n",
        "    count += 1\n",
        "    y_pred = np.concatenate([y_pred, model_f1_loss(x).numpy().flatten()])\n",
        "    y_true_small = np.concatenate([y_true_small, y.numpy()])\n",
        "    \n",
        "sns.heatmap(confusion_matrix(y_true_small, np.round(y_pred)), annot=True, fmt='g')\n",
        "plt.show()\n",
        "\n",
        "print(sklearn.metrics.classification_report(y_true_small, np.round(y_pred)))"
      ],
      "metadata": {
        "colab": {
          "base_uri": "https://localhost:8080/",
          "height": 421
        },
        "id": "qjZZKDu8VwAU",
        "outputId": "0a6cca08-f026-4dc8-c74d-279964d999a6"
      },
      "id": "qjZZKDu8VwAU",
      "execution_count": 47,
      "outputs": [
        {
          "output_type": "stream",
          "name": "stdout",
          "text": []
        },
        {
          "output_type": "display_data",
          "data": {
            "text/plain": [
              "<Figure size 432x288 with 2 Axes>"
            ],
            "image/png": "[encoded data removed]"
          },
          "metadata": {
            "needs_background": "light"
          }
        },
        {
          "output_type": "stream",
          "name": "stdout",
          "text": [
            "              precision    recall  f1-score   support\n",
            "\n",
            "         0.0       0.89      0.90      0.89      3968\n",
            "         1.0       0.70      0.67      0.69      1408\n",
            "\n",
            "    accuracy                           0.84      5376\n",
            "   macro avg       0.79      0.79      0.79      5376\n",
            "weighted avg       0.84      0.84      0.84      5376\n",
            "\n"
          ]
        }
      ]
    },
    {
      "cell_type": "code",
      "source": [
        "model_tuned = keras.models.load_model('breast_cancer_tuned_baseline.h5', custom_objects={'f1':f1})\n",
        "\n",
        "callbacks = [\n",
        "    tf.keras.callbacks.EarlyStopping(patience=6),\n",
        "    tf.keras.callbacks.ModelCheckpoint(filepath='breast_cancer_effnet_tuned.h5',  save_best_only=True, monitor=\"val_f1\"),\n",
        "    tf.keras.callbacks.ReduceLROnPlateau(patience=5)\n",
        "]\n",
        "\n",
        "model_tuned.compile(loss='binary_crossentropy',\n",
        "              optimizer='sgd',\n",
        "              metrics=[\n",
        "                  f1,\n",
        "                  keras.metrics.BinaryAccuracy(),\n",
        "                  keras.metrics.Precision(),\n",
        "                  keras.metrics.Recall(),\n",
        "                  keras.metrics.AUC()\n",
        "              ])\n",
        "\n",
        "model_tuned_history = model_tuned.fit(train_set,\n",
        "                     validation_data=valid_set,\n",
        "                     callbacks=callbacks,\n",
        "                     epochs=15,\n",
        "                    class_weight=class_weights)"
      ],
      "metadata": {
        "colab": {
          "base_uri": "https://localhost:8080/"
        },
        "id": "Rq0mOQJ1eCvb",
        "outputId": "7d69f944-fcca-4935-de66-9109fc2b4c25"
      },
      "id": "Rq0mOQJ1eCvb",
      "execution_count": null,
      "outputs": [
        {
          "output_type": "stream",
          "name": "stderr",
          "text": [
            "WARNING:tensorflow:Error in loading the saved optimizer state. As a result, your model is starting with a freshly initialized optimizer.\n"
          ]
        },
        {
          "output_type": "stream",
          "name": "stdout",
          "text": [
            "Epoch 1/15\n",
            "20593/20593 [==============================] - 2881s 139ms/step - loss: 0.5289 - f1: 0.7190 - binary_accuracy: 0.8508 - precision_4: 0.6868 - recall_4: 0.8792 - auc_4: 0.9301 - val_loss: 0.3328 - val_f1: 0.7291 - val_binary_accuracy: 0.8589 - val_precision_4: 0.6913 - val_recall_4: 0.9161 - val_auc_4: 0.9476 - lr: 0.0100\n",
            "Epoch 2/15\n",
            "20593/20593 [==============================] - 2865s 139ms/step - loss: 0.4967 - f1: 0.7307 - binary_accuracy: 0.8602 - precision_4: 0.7020 - recall_4: 0.8885 - auc_4: 0.9381 - val_loss: 0.3714 - val_f1: 0.7152 - val_binary_accuracy: 0.8405 - val_precision_4: 0.6539 - val_recall_4: 0.9410 - val_auc_4: 0.9507 - lr: 0.0100\n",
            "Epoch 3/15\n",
            "20593/20593 [==============================] - 2861s 139ms/step - loss: 0.4759 - f1: 0.7329 - binary_accuracy: 0.8649 - precision_4: 0.7094 - recall_4: 0.8938 - auc_4: 0.9430 - val_loss: 0.3720 - val_f1: 0.7245 - val_binary_accuracy: 0.8467 - val_precision_4: 0.6642 - val_recall_4: 0.9395 - val_auc_4: 0.9529 - lr: 0.0100\n",
            "Epoch 4/15\n",
            "20593/20593 [==============================] - 2864s 139ms/step - loss: 0.4629 - f1: 0.7415 - binary_accuracy: 0.8697 - precision_4: 0.7171 - recall_4: 0.8992 - auc_4: 0.9460 - val_loss: 0.3220 - val_f1: 0.7420 - val_binary_accuracy: 0.8652 - val_precision_4: 0.6981 - val_recall_4: 0.9325 - val_auc_4: 0.9557 - lr: 0.0100\n",
            "Epoch 5/15\n",
            "20593/20593 [==============================] - 2860s 139ms/step - loss: 0.4534 - f1: 0.7454 - binary_accuracy: 0.8722 - precision_4: 0.7210 - recall_4: 0.9023 - auc_4: 0.9482 - val_loss: 0.3291 - val_f1: 0.7415 - val_binary_accuracy: 0.8691 - val_precision_4: 0.7060 - val_recall_4: 0.9298 - val_auc_4: 0.9554 - lr: 0.0100\n",
            "Epoch 6/15\n",
            "20593/20593 [==============================] - 2869s 139ms/step - loss: 0.4419 - f1: 0.7459 - binary_accuracy: 0.8748 - precision_4: 0.7258 - recall_4: 0.9035 - auc_4: 0.9507 - val_loss: 0.3492 - val_f1: 0.7323 - val_binary_accuracy: 0.8521 - val_precision_4: 0.6710 - val_recall_4: 0.9484 - val_auc_4: 0.9580 - lr: 0.0100\n",
            "Epoch 7/15\n",
            "20593/20593 [==============================] - 2880s 140ms/step - loss: 0.4332 - f1: 0.7515 - binary_accuracy: 0.8769 - precision_4: 0.7285 - recall_4: 0.9078 - auc_4: 0.9526 - val_loss: 0.2972 - val_f1: 0.7541 - val_binary_accuracy: 0.8771 - val_precision_4: 0.7221 - val_recall_4: 0.9280 - val_auc_4: 0.9587 - lr: 0.0100\n",
            "Epoch 8/15\n",
            "20593/20593 [==============================] - 2879s 140ms/step - loss: 0.4270 - f1: 0.7550 - binary_accuracy: 0.8803 - precision_4: 0.7345 - recall_4: 0.9109 - auc_4: 0.9539 - val_loss: 0.2734 - val_f1: 0.7549 - val_binary_accuracy: 0.8877 - val_precision_4: 0.7531 - val_recall_4: 0.9040 - val_auc_4: 0.9577 - lr: 0.0100\n",
            "Epoch 9/15\n",
            "13980/20593 [===================>..........] - ETA: 14:01 - loss: 0.4178 - f1: 0.7557 - binary_accuracy: 0.8818 - precision_4: 0.7360 - recall_4: 0.9116 - auc_4: 0.9557"
          ]
        }
      ]
    },
    {
      "cell_type": "code",
      "source": [
        "model_tuned = keras.models.load_model('breast_cancer_effnet_tuned.h5', custom_objects={'f1':f1})\n",
        "\n",
        "y_pred = np.array([])\n",
        "y_true = np.array([])\n",
        "count = 0\n",
        "\n",
        "for x, y in test_set:\n",
        "    print(f'Evaluating batch {count}/{len(test_set)}', end='\\r')\n",
        "    count += 1\n",
        "    y_pred = np.concatenate([y_pred, model_tuned(x).numpy().flatten()])\n",
        "    y_true = np.concatenate([y_true, y.numpy()])\n",
        "    \n",
        "sns.heatmap(confusion_matrix(y_true, np.round(y_pred)), annot=True, fmt='g')\n",
        "plt.show()\n",
        "\n",
        "print(sklearn.metrics.classification_report(y_true, np.round(y_pred)))"
      ],
      "metadata": {
        "colab": {
          "base_uri": "https://localhost:8080/",
          "height": 421
        },
        "id": "jyIpCvb0eXHV",
        "outputId": "308f545f-cd8b-4bff-f891-d4bd573a1456"
      },
      "id": "jyIpCvb0eXHV",
      "execution_count": 49,
      "outputs": [
        {
          "output_type": "stream",
          "name": "stdout",
          "text": []
        },
        {
          "output_type": "display_data",
          "data": {
            "text/plain": [
              "<Figure size 432x288 with 2 Axes>"
            ],
            "image/png": "[encoded data removed]"
          },
          "metadata": {
            "needs_background": "light"
          }
        },
        {
          "output_type": "stream",
          "name": "stdout",
          "text": [
            "              precision    recall  f1-score   support\n",
            "\n",
            "         0.0       0.97      0.81      0.89     39282\n",
            "         1.0       0.67      0.95      0.78     15718\n",
            "\n",
            "    accuracy                           0.85     55000\n",
            "   macro avg       0.82      0.88      0.83     55000\n",
            "weighted avg       0.89      0.85      0.86     55000\n",
            "\n"
          ]
        }
      ]
    }
  ],
  "metadata": {
    "accelerator": "GPU",
    "colab": {
      "machine_shape": "hm",
      "provenance": [],
      "include_colab_link": true
    },
    "gpuClass": "premium",
    "kernelspec": {
      "display_name": "Python 3 (ipykernel)",
      "language": "python",
      "name": "python3"
    },
    "language_info": {
      "codemirror_mode": {
        "name": "ipython",
        "version": 3
      },
      "file_extension": ".py",
      "mimetype": "text/x-python",
      "name": "python",
      "nbconvert_exporter": "python",
      "pygments_lexer": "ipython3",
      "version": "3.7.0"
    }
  },
  "nbformat": 4,
  "nbformat_minor": 5
}